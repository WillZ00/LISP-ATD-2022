{
 "cells": [
  {
   "cell_type": "code",
   "execution_count": 1,
   "id": "90143579",
   "metadata": {},
   "outputs": [],
   "source": [
    "import pandas as pd\n",
    "import numpy as np\n",
    "import torch\n",
    "import torch.nn as nn\n",
    "import os\n",
    "import atd2022\n",
    "import matplotlib.pyplot as plt\n",
    "import holoviews as hv\n",
    "from sktime.performance_metrics.forecasting import MeanAbsoluteScaledError, MeanSquaredError\n",
    "from utils.tools import dotdict\n",
    "from section_cnn_wrapper import SectionCNNForecaster\n",
    "import torch\n",
    "hv.extension(\"bokeh\")\n",
    "# pd.set_option('display.max_columns', None)\n",
    "torch.cuda.is_available()\n",
    "torch.cuda.set_device(1)"
   ]
  },
  {
   "cell_type": "code",
   "execution_count": null,
   "id": "c95518d3",
   "metadata": {
    "scrolled": true
   },
   "outputs": [],
   "source": [
    "# data = pd.read_csv('data/train_1.csv', index_col=0, parse_dates=True)\n",
    "# new_index = pd.DataFrame(list(map(lambda x: x.split('.')[::-1], data.index)))\n",
    "# new_index = pd.concat([new_index[[0,1]],new_index.iloc[:,2:].apply(lambda x:'.'.join(x.dropna().values[::-1]),axis=1)], axis=1)\n",
    "# new_index.columns = [0,1,2]\n",
    "# new_index[3] = new_index[2].apply(lambda x:x[-2:])\n",
    "# new_index[2] = new_index[2].apply(lambda x:x[:-3])\n",
    "# new_index = new_index.iloc[:,[0,1,3,2]]\n",
    "# new_index.columns = [0,1,2,3]\n",
    "# data.index = pd.MultiIndex.from_arrays(new_index.values.T)\n",
    "# data = data.T\n",
    "# level_3_value_list = data.columns.get_level_values(3).value_counts().cumsum().head(50).index.to_list()\n",
    "# selected_index = new_index[new_index[3].isin(level_3_value_list)]\n",
    "# selected_data = data.iloc[:,selected_index.index]\n",
    "# whole_multi_index = pd.MultiIndex.from_product([selected_index[i].drop_duplicates().to_list() for i in range(selected_index.shape[1])])\n",
    "# filled_selected_data = pd.DataFrame(0, index=selected_data.index, columns=whole_multi_index)\n",
    "# filled_selected_data[selected_data.columns] = selected_data.fillna(0)\n",
    "# print(filled_selected_data.shape)\n",
    "# for i in range(selected_index.shape[1]):\n",
    "#     print(len(selected_index[i].drop_duplicates().to_list()))\n",
    "# filled_selected_data.to_csv('data/filled_selected_train_1.csv')\n",
    "filled_selected_data = pd.read_csv('data/filled_selected_train_1.csv', index_col=0, header=[0,1,2,3],parse_dates=True)"
   ]
  },
  {
   "cell_type": "code",
   "execution_count": null,
   "id": "f813eb04",
   "metadata": {},
   "outputs": [],
   "source": [
    "data = filled_selected_data.iloc[:108]\n",
    "data.head(5)"
   ]
  },
  {
   "cell_type": "code",
   "execution_count": null,
   "id": "df8036d0",
   "metadata": {},
   "outputs": [],
   "source": [
    "args = dotdict()\n",
    "\n",
    "args.if_scheduler = True\n",
    "args.if_filter_constant = True\n",
    "args.if_normalize = True\n",
    "args.if_filter_negative = True\n",
    "args.use_gpu = True\n",
    "args.batch_size = 30  #or 30\n",
    "args.train_epochs= 1000 #550\n",
    "args.lr = 0.01\n",
    "args.history_len = 20\n",
    "args.predict_len = 4\n",
    "args.section_structure = [\n",
    "    (4, 350, 1, False),\n",
    "    (7, 200, 1, False),\n",
    "    (50, 28, 1, True)\n",
    "]\n",
    "args.section_levels = [0,2,3]"
   ]
  },
  {
   "cell_type": "code",
   "execution_count": null,
   "id": "c3ba1e8c",
   "metadata": {},
   "outputs": [],
   "source": [
    "# model = SectionCNNForecaster(args)\n",
    "# model.fit(filled_selected_data)\n",
    "# model.predict([1])"
   ]
  },
  {
   "cell_type": "code",
   "execution_count": null,
   "id": "f6eca40d",
   "metadata": {},
   "outputs": [],
   "source": [
    "# Experiment Parameters\n",
    "window = 100\n",
    "num_predict = args.predict_len\n",
    "gap = 0\n",
    "slide = 1\n",
    "\n",
    "# Create a dataset `Splitter` object for generating train/test splits\n",
    "splitter = atd2022.backtest.Splitter(\n",
    "    data,\n",
    "    window,\n",
    "    num_predict,\n",
    "    gap,\n",
    "    slide,\n",
    "    expanding=True,\n",
    ")\n",
    "\n",
    "# Populate a list of models that support the `atd2022.forecasters.Forecaster` protocol\n",
    "# with which will we generate historical forecasts\n",
    "models = [\n",
    "    SectionCNNForecaster(args),\n",
    "    atd2022.forecasters.PredictMeanForecaster(),\n",
    "    atd2022.forecasters.PredictLastForecaster(),\n",
    "    atd2022.forecasters.ExponentiallyWeightedMovingAverage()\n",
    "]"
   ]
  },
  {
   "cell_type": "code",
   "execution_count": null,
   "id": "c150c98c",
   "metadata": {},
   "outputs": [],
   "source": [
    "# Compute historical forecasts for all models\n",
    "predictions = [\n",
    "    atd2022.backtest.historical_forecast(model, splitter, verbose=True)\n",
    "    for model in models\n",
    "]"
   ]
  },
  {
   "cell_type": "code",
   "execution_count": null,
   "id": "39a021b7",
   "metadata": {},
   "outputs": [],
   "source": [
    "metric_functions = [\n",
    "    MeanAbsoluteScaledError(),\n",
    "    MeanSquaredError(square_root=True),\n",
    "]\n",
    "\n",
    "metrics_df = atd2022.metrics.compute_metrics(\n",
    "    data,\n",
    "    predictions,\n",
    "    metric_functions,\n",
    "    models=models,\n",
    "    train=data,\n",
    "    verbose=True,\n",
    ")\n",
    "\n",
    "metrics_n = atd2022.metrics.compute_nstep_metrics(\n",
    "    data,\n",
    "    predictions,\n",
    "    metric_functions,\n",
    "    models=models,\n",
    "    train=data,\n",
    "    verbose=True,\n",
    ")\n",
    "display(metrics_df)\n",
    "display(metrics_n)\n",
    "# display(atd2022.viz.plot_nstep_metrics(metrics_n))"
   ]
  },
  {
   "cell_type": "code",
   "execution_count": null,
   "id": "ee07e3ce",
   "metadata": {},
   "outputs": [],
   "source": []
  }
 ],
 "metadata": {
  "kernelspec": {
   "display_name": "atd2022",
   "language": "python",
   "name": "atd2022"
  },
  "language_info": {
   "codemirror_mode": {
    "name": "ipython",
    "version": 3
   },
   "file_extension": ".py",
   "mimetype": "text/x-python",
   "name": "python",
   "nbconvert_exporter": "python",
   "pygments_lexer": "ipython3",
   "version": "3.9.13"
  }
 },
 "nbformat": 4,
 "nbformat_minor": 5
}
