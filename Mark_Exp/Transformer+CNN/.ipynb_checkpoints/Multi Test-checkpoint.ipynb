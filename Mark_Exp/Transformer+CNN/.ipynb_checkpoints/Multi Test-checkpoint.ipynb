{
 "cells": [
  {
   "cell_type": "code",
   "execution_count": 1,
   "id": "8acc6cb8",
   "metadata": {},
   "outputs": [],
   "source": [
    "import atd2022\n",
    "import pandas as pd\n",
    "import numpy as np\n",
    "import matplotlib.pyplot as plt\n",
    "import holoviews as hv\n",
    "import pandas as pd\n",
    "from sktime.performance_metrics.forecasting import MeanAbsoluteScaledError, MeanSquaredError\n",
    "from utils.tools import dotdict\n",
    "from var_forecaster import VarForecaster\n",
    "from deco_var_forecaster import DecoVarForecaster\n",
    "from multi_forecaster import MultiForecaster\n",
    "import torch\n",
    "hv.extension(\"bokeh\")\n",
    "# pd.set_option('display.max_columns', None)\n",
    "torch.cuda.is_available()\n",
    "torch.cuda.set_device(2)"
   ]
  },
  {
   "cell_type": "code",
   "execution_count": 2,
   "id": "7e85d8b5",
   "metadata": {},
   "outputs": [],
   "source": [
    "args = dotdict()\n",
    "args.var = dotdict()\n",
    "args.decovar = dotdict()\n",
    "\n",
    "args.model_list = ['var'\n",
    "                   , 'cnn'\n",
    "#                    , 'pmf'\n",
    "#                    , 'plf'\n",
    "#                    , 'EWMA'\n",
    "                  ]\n",
    "args.predict_len = 4\n",
    "\n",
    "args.var.if_normalize = True\n",
    "args.var.if_filter_constant = True\n",
    "args.var.lag=10\n",
    "args.var.predict_len = args.predict_len\n",
    "args.var.if_round = True\n",
    "args.var.seperate_train = False\n",
    "args.var.error_threshold = 10\n",
    "\n",
    "args.cnn.if_scheduler = False\n",
    "args.cnn.if_filter_constant = True\n",
    "args.cnn.if_normalize = False\n",
    "args.cnn.use_gpu = True\n",
    "args.cnn.batch_size = 30\n",
    "args.cnn.train_epochs= 500\n",
    "args.cnn.lr = 0.001\n",
    "args.cnn.history_len = 20\n",
    "args.cnn.predict_len = args.predict_len"
   ]
  },
  {
   "cell_type": "code",
   "execution_count": 6,
   "id": "73b72113",
   "metadata": {},
   "outputs": [
    {
     "name": "stdout",
     "output_type": "stream",
     "text": [
      "1\n"
     ]
    },
    {
     "data": {
      "text/plain": [
       "torch.Size([1, 5])"
      ]
     },
     "execution_count": 6,
     "metadata": {},
     "output_type": "execute_result"
    }
   ],
   "source": [
    "data = atd2022.io.read_csv()"
   ]
  },
  {
   "cell_type": "code",
   "execution_count": null,
   "id": "34d3ea2b",
   "metadata": {},
   "outputs": [],
   "source": [
    "# Load data\n",
    "truth = atd2022.io.read_csv()\n",
    "\n",
    "# Subset the data for the sake of making this fast.\n",
    "# Remove if you want to run the example on the entire dataset.\n",
    "truth = truth.head(110)\n",
    "\n",
    "# Experiment Parameters\n",
    "window = 100\n",
    "num_predict = 4\n",
    "gap = 0\n",
    "slide = 1\n",
    "\n",
    "# Create a dataset `Splitter` object for generating train/test splits\n",
    "splitter = atd2022.backtest.Splitter(\n",
    "    \n",
    "    truth,\n",
    "    window,\n",
    "    num_predict,\n",
    "    gap,\n",
    "    slide,\n",
    "    expanding=True,\n",
    ")"
   ]
  },
  {
   "cell_type": "code",
   "execution_count": null,
   "id": "73fceb4b",
   "metadata": {},
   "outputs": [],
   "source": [
    "# Populate a list of models that support the `atd2022.forecasters.Forecaster` protocol\n",
    "# with which will we generate historical forecasts\n",
    "models = [\n",
    "    MultiForecaster(args),\n",
    "    atd2022.forecasters.PredictMeanForecaster(),\n",
    "    atd2022.forecasters.PredictLastForecaster(),\n",
    "    atd2022.forecasters.ExponentiallyWeightedMovingAverage()\n",
    "]\n",
    "\n",
    "# Compute historical forecasts for all models\n",
    "predictions = [\n",
    "    atd2022.backtest.historical_forecast(model, splitter, verbose=True)\n",
    "    for model in models\n",
    "]"
   ]
  },
  {
   "cell_type": "code",
   "execution_count": null,
   "id": "6517b7b5",
   "metadata": {},
   "outputs": [],
   "source": [
    " # Make a mapping of model names to the model's predictions\n",
    "timeseries = {repr(model): pred for model, pred in zip(models, predictions)}\n",
    "atd2022.viz.plot_series_nstep_panel({\"Truth\": truth}, timeseries)"
   ]
  },
  {
   "cell_type": "code",
   "execution_count": null,
   "id": "b282d81d",
   "metadata": {},
   "outputs": [],
   "source": [
    "metric_functions = [\n",
    "    MeanAbsoluteScaledError(),\n",
    "    MeanSquaredError(square_root=True),\n",
    "]\n",
    "\n",
    "metrics_df = atd2022.metrics.compute_metrics(\n",
    "    truth,\n",
    "    predictions,\n",
    "    metric_functions,\n",
    "    models=models,\n",
    "    train=truth,\n",
    "    verbose=True,\n",
    ")\n",
    "\n",
    "metrics_n = atd2022.metrics.compute_nstep_metrics(\n",
    "    truth,\n",
    "    predictions,\n",
    "    metric_functions,\n",
    "    models=models,\n",
    "    train=truth,\n",
    "    verbose=True,\n",
    ")\n",
    "display(metrics_df)\n",
    "display(metrics_n)\n",
    "display(atd2022.viz.plot_nstep_metrics(metrics_n))"
   ]
  }
 ],
 "metadata": {
  "kernelspec": {
   "display_name": "atd2022",
   "language": "python",
   "name": "atd2022"
  },
  "language_info": {
   "codemirror_mode": {
    "name": "ipython",
    "version": 3
   },
   "file_extension": ".py",
   "mimetype": "text/x-python",
   "name": "python",
   "nbconvert_exporter": "python",
   "pygments_lexer": "ipython3",
   "version": "3.9.13"
  }
 },
 "nbformat": 4,
 "nbformat_minor": 5
}
