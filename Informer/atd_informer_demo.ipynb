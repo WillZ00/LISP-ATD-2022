{
 "cells": [
  {
   "cell_type": "markdown",
   "id": "8d1a5591",
   "metadata": {},
   "source": [
    "# Import Dependencies"
   ]
  },
  {
   "cell_type": "code",
   "execution_count": 1,
   "id": "92827dcf",
   "metadata": {
    "scrolled": true
   },
   "outputs": [],
   "source": [
    "import atd2022\n",
    "import torch\n",
    "import pandas as pd\n",
    "import numpy as np\n",
    "from atd_informer import atd_informer\n",
    "from utils.tools import dotdict\n",
    "from atd_wrapper import InformerForcaster\n",
    "pd.set_option('display.max_columns', None)\n",
    "from sktime.performance_metrics.forecasting import (\n",
    "    MeanAbsoluteScaledError,\n",
    "    MeanSquaredError,\n",
    ")"
   ]
  },
  {
   "cell_type": "code",
   "execution_count": 2,
   "id": "08dd46b7",
   "metadata": {
    "scrolled": true
   },
   "outputs": [
    {
     "data": {
      "text/plain": [
       "<module 'atd_informer.atd_informer' from '/scratch/wzong/LISP-ATD-2022/Informer/atd_informer/atd_informer.py'>"
      ]
     },
     "execution_count": 2,
     "metadata": {},
     "output_type": "execute_result"
    }
   ],
   "source": [
    "import importlib\n",
    "importlib.reload(atd_informer)"
   ]
  },
  {
   "cell_type": "code",
   "execution_count": 3,
   "id": "b6b20c00",
   "metadata": {},
   "outputs": [
    {
     "data": {
      "text/plain": [
       "True"
      ]
     },
     "execution_count": 3,
     "metadata": {},
     "output_type": "execute_result"
    }
   ],
   "source": [
    "import torch\n",
    "torch.cuda.is_available()"
   ]
  },
  {
   "cell_type": "markdown",
   "id": "bfc9b8a5",
   "metadata": {},
   "source": [
    "# Small Scale Testing (pls ignore)"
   ]
  },
  {
   "cell_type": "code",
   "execution_count": 4,
   "id": "d86b3b8b",
   "metadata": {},
   "outputs": [],
   "source": [
    "args = dotdict()\n",
    "\n",
    "\n",
    "args.enc_in = 20 # encoder input size\n",
    "args.dec_in = 20 # decoder input size\n",
    "args.c_out = 20 # output size\n",
    "args.factor = 5 # probsparse attn factor\n",
    "args.d_model = 512 # dimension of model\n",
    "args.n_heads = 8 # num of heads\n",
    "args.e_layers = 2 # num of encoder layers\n",
    "args.d_layers = 1 # num of decoder layers\n",
    "args.d_ff = 2048 # dimension of fcn in model\n",
    "args.dropout = 0.05 # dropout\n",
    "args.attn = 'prob' # attention used in encoder, options:[prob, full]\n",
    "args.embed = 'timeF' # time features encoding, options:[timeF, fixed, learned]\n",
    "args.activation = 'gelu' # activation\n",
    "args.distil = True # whether to use distilling in encoder\n",
    "args.output_attention = False # whether to output attention in ecoder\n",
    "args.mix = True\n",
    "args.padding = 0\n",
    "args.freq = 'w'\n",
    "args.inverse=False\n",
    "args.timeenc=0\n",
    "\n",
    "args.cols=1\n",
    "args.checkpoints = \"/Users/will/Desktop/tmp\"\n",
    "\n",
    "\n",
    "\n",
    "args.seq_len=5\n",
    "args.label_len=3\n",
    "args.pred_len=1\n",
    "\n",
    "\n",
    "args.batch_size = 1\n",
    "args.learning_rate = 0.0001\n",
    "args.loss = 'mse'\n",
    "args.lradj = 'type1'\n",
    "args.use_amp = False\n",
    "\n",
    "args.itr=1\n",
    "args.train_epochs=1\n",
    "args.patience=3"
   ]
  },
  {
   "cell_type": "code",
   "execution_count": 5,
   "id": "64fedfd0",
   "metadata": {},
   "outputs": [],
   "source": [
    "informer = atd_informer.ATD_Informer"
   ]
  },
  {
   "cell_type": "markdown",
   "id": "a6a523c5",
   "metadata": {},
   "source": [
    "#### Model Training (ignore pls)"
   ]
  },
  {
   "cell_type": "code",
   "execution_count": 6,
   "id": "d38fc8f5",
   "metadata": {
    "scrolled": true
   },
   "outputs": [
    {
     "ename": "TypeError",
     "evalue": "__init__() missing 1 required positional argument: 'df'",
     "output_type": "error",
     "traceback": [
      "\u001b[0;31m---------------------------------------------------------------------------\u001b[0m",
      "\u001b[0;31mTypeError\u001b[0m                                 Traceback (most recent call last)",
      "Input \u001b[0;32mIn [6]\u001b[0m, in \u001b[0;36m<cell line: 1>\u001b[0;34m()\u001b[0m\n\u001b[1;32m      3\u001b[0m setting \u001b[38;5;241m=\u001b[39m \u001b[38;5;124m'\u001b[39m\u001b[38;5;132;01m{}\u001b[39;00m\u001b[38;5;124m_\u001b[39m\u001b[38;5;132;01m{}\u001b[39;00m\u001b[38;5;124m_ft\u001b[39m\u001b[38;5;132;01m{}\u001b[39;00m\u001b[38;5;124m_sl\u001b[39m\u001b[38;5;132;01m{}\u001b[39;00m\u001b[38;5;124m_ll\u001b[39m\u001b[38;5;132;01m{}\u001b[39;00m\u001b[38;5;124m_pl\u001b[39m\u001b[38;5;132;01m{}\u001b[39;00m\u001b[38;5;124m_dm\u001b[39m\u001b[38;5;132;01m{}\u001b[39;00m\u001b[38;5;124m_nh\u001b[39m\u001b[38;5;132;01m{}\u001b[39;00m\u001b[38;5;124m_el\u001b[39m\u001b[38;5;132;01m{}\u001b[39;00m\u001b[38;5;124m_dl\u001b[39m\u001b[38;5;132;01m{}\u001b[39;00m\u001b[38;5;124m_df\u001b[39m\u001b[38;5;132;01m{}\u001b[39;00m\u001b[38;5;124m_at\u001b[39m\u001b[38;5;132;01m{}\u001b[39;00m\u001b[38;5;124m_fc\u001b[39m\u001b[38;5;132;01m{}\u001b[39;00m\u001b[38;5;124m_eb\u001b[39m\u001b[38;5;132;01m{}\u001b[39;00m\u001b[38;5;124m_dt\u001b[39m\u001b[38;5;132;01m{}\u001b[39;00m\u001b[38;5;124m_mx\u001b[39m\u001b[38;5;132;01m{}\u001b[39;00m\u001b[38;5;124m_\u001b[39m\u001b[38;5;132;01m{}\u001b[39;00m\u001b[38;5;124m_\u001b[39m\u001b[38;5;132;01m{}\u001b[39;00m\u001b[38;5;124m'\u001b[39m\u001b[38;5;241m.\u001b[39mformat(args\u001b[38;5;241m.\u001b[39mmodel, args\u001b[38;5;241m.\u001b[39mdata, args\u001b[38;5;241m.\u001b[39mfeatures, \n\u001b[1;32m      4\u001b[0m             args\u001b[38;5;241m.\u001b[39mseq_len, args\u001b[38;5;241m.\u001b[39mlabel_len, args\u001b[38;5;241m.\u001b[39mpred_len,\n\u001b[1;32m      5\u001b[0m             args\u001b[38;5;241m.\u001b[39md_model, args\u001b[38;5;241m.\u001b[39mn_heads, args\u001b[38;5;241m.\u001b[39me_layers, args\u001b[38;5;241m.\u001b[39md_layers, args\u001b[38;5;241m.\u001b[39md_ff, args\u001b[38;5;241m.\u001b[39mattn, args\u001b[38;5;241m.\u001b[39mfactor, args\u001b[38;5;241m.\u001b[39membed, args\u001b[38;5;241m.\u001b[39mdistil, args\u001b[38;5;241m.\u001b[39mmix, args\u001b[38;5;241m.\u001b[39mdes, ii)\n\u001b[1;32m      7\u001b[0m \u001b[38;5;66;03m# set experiments\u001b[39;00m\n\u001b[0;32m----> 8\u001b[0m exp \u001b[38;5;241m=\u001b[39m \u001b[43minformer\u001b[49m\u001b[43m(\u001b[49m\u001b[43margs\u001b[49m\u001b[43m)\u001b[49m\n\u001b[1;32m     10\u001b[0m \u001b[38;5;66;03m# train\u001b[39;00m\n\u001b[1;32m     11\u001b[0m \u001b[38;5;28mprint\u001b[39m(\u001b[38;5;124m'\u001b[39m\u001b[38;5;124m>>>>>>>start training : \u001b[39m\u001b[38;5;132;01m{}\u001b[39;00m\u001b[38;5;124m>>>>>>>>>>>>>>>>>>>>>>>>>>\u001b[39m\u001b[38;5;124m'\u001b[39m\u001b[38;5;241m.\u001b[39mformat(setting))\n",
      "\u001b[0;31mTypeError\u001b[0m: __init__() missing 1 required positional argument: 'df'"
     ]
    }
   ],
   "source": [
    "for ii in range(args.itr):\n",
    "        # setting record of experiments\n",
    "    setting = '{}_{}_ft{}_sl{}_ll{}_pl{}_dm{}_nh{}_el{}_dl{}_df{}_at{}_fc{}_eb{}_dt{}_mx{}_{}_{}'.format(args.model, args.data, args.features, \n",
    "                args.seq_len, args.label_len, args.pred_len,\n",
    "                args.d_model, args.n_heads, args.e_layers, args.d_layers, args.d_ff, args.attn, args.factor, args.embed, args.distil, args.mix, args.des, ii)\n",
    "\n",
    "    # set experiments\n",
    "    exp = informer(args)\n",
    "    \n",
    "    # train\n",
    "    print('>>>>>>>start training : {}>>>>>>>>>>>>>>>>>>>>>>>>>>'.format(setting))\n",
    "    exp.train(setting)\n",
    "    \n",
    "    # test\n",
    "    print('>>>>>>>testing : {}<<<<<<<<<<<<<<<<<<<<<<<<<<<<<<<<<'.format(setting))\n",
    "    exp.test(setting)\n",
    "    "
   ]
  },
  {
   "cell_type": "code",
   "execution_count": null,
   "id": "580a47a1",
   "metadata": {},
   "outputs": [],
   "source": []
  },
  {
   "cell_type": "markdown",
   "id": "bdde6edb",
   "metadata": {},
   "source": [
    "### Generate Prediction (Ignore Pls)"
   ]
  },
  {
   "cell_type": "markdown",
   "id": "c31c023c",
   "metadata": {},
   "source": [
    "#setting = '{}_{}_ft{}_sl{}_ll{}_pl{}_dm{}_nh{}_el{}_dl{}_df{}_at{}_fc{}_eb{}_dt{}_mx{}_{}_{}'.format(args.model, args.data, args.features, \n",
    "                                                                                                     args.seq_len, args.label_len, args.pred_len,\n",
    "                                                                                                     args.d_model, args.n_heads, args.e_layers, args.d_layers,\n",
    "                                                                                                     args.d_ff, args.attn, args.factor, args.embed, args.distil, \n",
    "                                                                                                     args.mix, args.des)"
   ]
  },
  {
   "cell_type": "code",
   "execution_count": null,
   "id": "71a6966a",
   "metadata": {},
   "outputs": [],
   "source": [
    "setting= \"string\""
   ]
  },
  {
   "cell_type": "code",
   "execution_count": null,
   "id": "64271710",
   "metadata": {
    "scrolled": true
   },
   "outputs": [],
   "source": [
    "exp.predict(setting)"
   ]
  },
  {
   "cell_type": "code",
   "execution_count": null,
   "id": "f28d869e",
   "metadata": {},
   "outputs": [],
   "source": [
    "prediction = np.load('./results/'+setting+'/real_prediction.npy')\n",
    "\n",
    "prediction.shape"
   ]
  },
  {
   "cell_type": "code",
   "execution_count": null,
   "id": "4aeba6af",
   "metadata": {},
   "outputs": [],
   "source": [
    "prediction"
   ]
  },
  {
   "cell_type": "code",
   "execution_count": null,
   "id": "8c53aa32",
   "metadata": {},
   "outputs": [],
   "source": []
  },
  {
   "cell_type": "code",
   "execution_count": null,
   "id": "b9d04631",
   "metadata": {},
   "outputs": [],
   "source": []
  },
  {
   "cell_type": "code",
   "execution_count": null,
   "id": "96df20b6",
   "metadata": {},
   "outputs": [],
   "source": []
  },
  {
   "cell_type": "markdown",
   "id": "a9601b25",
   "metadata": {},
   "source": [
    "# Testing ATD Protocal (Passed)"
   ]
  },
  {
   "cell_type": "code",
   "execution_count": null,
   "id": "2273e513",
   "metadata": {},
   "outputs": [],
   "source": [
    "truth = atd2022.io.read_csv()"
   ]
  },
  {
   "cell_type": "code",
   "execution_count": null,
   "id": "7b24828b",
   "metadata": {},
   "outputs": [],
   "source": [
    "test = truth[[\"AA\", \"AC\"]]"
   ]
  },
  {
   "cell_type": "code",
   "execution_count": null,
   "id": "aa970dff",
   "metadata": {},
   "outputs": [],
   "source": [
    "test.head()"
   ]
  },
  {
   "cell_type": "code",
   "execution_count": null,
   "id": "6170c459",
   "metadata": {},
   "outputs": [],
   "source": [
    "truth.index"
   ]
  },
  {
   "cell_type": "code",
   "execution_count": null,
   "id": "4ce76969",
   "metadata": {},
   "outputs": [],
   "source": [
    "cols = truth.columns"
   ]
  },
  {
   "cell_type": "code",
   "execution_count": null,
   "id": "8be0b3e8",
   "metadata": {},
   "outputs": [],
   "source": [
    "type(cols)"
   ]
  },
  {
   "cell_type": "code",
   "execution_count": null,
   "id": "3d8b44ad",
   "metadata": {},
   "outputs": [],
   "source": [
    "tmp = truth.to_numpy()"
   ]
  },
  {
   "cell_type": "code",
   "execution_count": null,
   "id": "69a95447",
   "metadata": {},
   "outputs": [],
   "source": [
    "test_df = pd.DataFrame(data=tmp, index = truth.index, columns = truth.columns)"
   ]
  },
  {
   "cell_type": "code",
   "execution_count": null,
   "id": "aea6fc30",
   "metadata": {},
   "outputs": [],
   "source": []
  },
  {
   "cell_type": "code",
   "execution_count": null,
   "id": "75230c81",
   "metadata": {},
   "outputs": [],
   "source": [
    "exp = InformerForcaster(args)"
   ]
  },
  {
   "cell_type": "code",
   "execution_count": null,
   "id": "14137967",
   "metadata": {},
   "outputs": [],
   "source": []
  },
  {
   "cell_type": "code",
   "execution_count": null,
   "id": "b7d335f2",
   "metadata": {
    "scrolled": true
   },
   "outputs": [],
   "source": [
    "exp.fit(test)"
   ]
  },
  {
   "cell_type": "code",
   "execution_count": null,
   "id": "839c11a6",
   "metadata": {},
   "outputs": [],
   "source": [
    "exp.predict()"
   ]
  },
  {
   "cell_type": "code",
   "execution_count": null,
   "id": "aedb8d67",
   "metadata": {
    "scrolled": false
   },
   "outputs": [],
   "source": [
    "exp.predict()"
   ]
  },
  {
   "cell_type": "code",
   "execution_count": null,
   "id": "e32dfccc",
   "metadata": {},
   "outputs": [],
   "source": []
  },
  {
   "cell_type": "code",
   "execution_count": null,
   "id": "92eede27",
   "metadata": {},
   "outputs": [],
   "source": []
  },
  {
   "cell_type": "code",
   "execution_count": null,
   "id": "97a48814",
   "metadata": {},
   "outputs": [],
   "source": []
  },
  {
   "cell_type": "code",
   "execution_count": null,
   "id": "238552f4",
   "metadata": {
    "scrolled": false
   },
   "outputs": [],
   "source": [
    "torch.cuda.is_available()"
   ]
  },
  {
   "cell_type": "code",
   "execution_count": null,
   "id": "912803ce",
   "metadata": {},
   "outputs": [],
   "source": [
    "torch.cuda.device_count()"
   ]
  },
  {
   "cell_type": "code",
   "execution_count": null,
   "id": "58e24b86",
   "metadata": {
    "scrolled": true
   },
   "outputs": [],
   "source": [
    "for i in range(8):\n",
    "    print(torch.cuda.get_device_name(i))"
   ]
  },
  {
   "cell_type": "code",
   "execution_count": null,
   "id": "32f71c20",
   "metadata": {},
   "outputs": [],
   "source": []
  },
  {
   "cell_type": "code",
   "execution_count": null,
   "id": "7ee069e6",
   "metadata": {},
   "outputs": [],
   "source": []
  },
  {
   "cell_type": "code",
   "execution_count": null,
   "id": "59bc95b0",
   "metadata": {},
   "outputs": [],
   "source": [
    "lst = exp.model_list"
   ]
  },
  {
   "cell_type": "code",
   "execution_count": null,
   "id": "c98e6c9e",
   "metadata": {},
   "outputs": [],
   "source": [
    "len(lst)"
   ]
  },
  {
   "cell_type": "code",
   "execution_count": null,
   "id": "a2d7ae40",
   "metadata": {},
   "outputs": [],
   "source": [
    "test_mod = exp.model_list[0]"
   ]
  },
  {
   "cell_type": "code",
   "execution_count": null,
   "id": "ac9fc6e9",
   "metadata": {},
   "outputs": [],
   "source": [
    "setting=\"str\""
   ]
  },
  {
   "cell_type": "code",
   "execution_count": null,
   "id": "2aefbd2b",
   "metadata": {},
   "outputs": [],
   "source": [
    "pred =test_mod.predict()"
   ]
  },
  {
   "cell_type": "code",
   "execution_count": null,
   "id": "1be0554d",
   "metadata": {},
   "outputs": [],
   "source": [
    "pred"
   ]
  },
  {
   "cell_type": "code",
   "execution_count": null,
   "id": "4ee2a897",
   "metadata": {},
   "outputs": [],
   "source": []
  },
  {
   "cell_type": "code",
   "execution_count": null,
   "id": "437fdcb5",
   "metadata": {},
   "outputs": [],
   "source": [
    "a1=np.array([1,2,3])"
   ]
  },
  {
   "cell_type": "code",
   "execution_count": null,
   "id": "5b1f44c6",
   "metadata": {},
   "outputs": [],
   "source": [
    "a2=np.array([2,3,4])"
   ]
  },
  {
   "cell_type": "code",
   "execution_count": null,
   "id": "42f6e8c4",
   "metadata": {},
   "outputs": [],
   "source": [
    "np.concatenate([a1,a2])"
   ]
  },
  {
   "cell_type": "code",
   "execution_count": null,
   "id": "be63afa6",
   "metadata": {},
   "outputs": [],
   "source": []
  },
  {
   "cell_type": "code",
   "execution_count": null,
   "id": "6a82ee22",
   "metadata": {},
   "outputs": [],
   "source": []
  },
  {
   "cell_type": "code",
   "execution_count": null,
   "id": "a95c4858",
   "metadata": {},
   "outputs": [],
   "source": [
    "truth = atd2022.io.read_csv()"
   ]
  },
  {
   "cell_type": "code",
   "execution_count": null,
   "id": "784bb4cd",
   "metadata": {},
   "outputs": [],
   "source": [
    "truth.tail()"
   ]
  },
  {
   "cell_type": "code",
   "execution_count": null,
   "id": "6d95fa58",
   "metadata": {},
   "outputs": [],
   "source": [
    "dt=truth.index[-1]"
   ]
  },
  {
   "cell_type": "code",
   "execution_count": null,
   "id": "56911103",
   "metadata": {},
   "outputs": [],
   "source": [
    "dt"
   ]
  },
  {
   "cell_type": "code",
   "execution_count": null,
   "id": "52ba3654",
   "metadata": {},
   "outputs": [],
   "source": [
    "dt+1"
   ]
  },
  {
   "cell_type": "code",
   "execution_count": null,
   "id": "869c9675",
   "metadata": {},
   "outputs": [],
   "source": [
    "dt+2"
   ]
  },
  {
   "cell_type": "code",
   "execution_count": null,
   "id": "bf06f2c1",
   "metadata": {},
   "outputs": [],
   "source": [
    "dt+3"
   ]
  },
  {
   "cell_type": "code",
   "execution_count": null,
   "id": "37462f90",
   "metadata": {},
   "outputs": [],
   "source": [
    "dt+4"
   ]
  },
  {
   "cell_type": "code",
   "execution_count": null,
   "id": "b7e1adc4",
   "metadata": {},
   "outputs": [],
   "source": []
  },
  {
   "cell_type": "markdown",
   "id": "e61fc8e1",
   "metadata": {},
   "source": [
    "# VRAM Optimized Small Scale Testing"
   ]
  },
  {
   "cell_type": "code",
   "execution_count": null,
   "id": "c6176af5",
   "metadata": {},
   "outputs": [],
   "source": [
    "truth = atd2022.io.read_csv()"
   ]
  },
  {
   "cell_type": "code",
   "execution_count": null,
   "id": "d5c14e9f",
   "metadata": {},
   "outputs": [],
   "source": [
    "test1=truth[\"AA\"]"
   ]
  },
  {
   "cell_type": "code",
   "execution_count": null,
   "id": "007ad4a8",
   "metadata": {},
   "outputs": [],
   "source": [
    "test = truth[[\"AA\", \"AC\"]]"
   ]
  },
  {
   "cell_type": "code",
   "execution_count": null,
   "id": "1652dcc9",
   "metadata": {},
   "outputs": [],
   "source": [
    "args = dotdict()\n",
    "\n",
    "\n",
    "args.enc_in = 20 # encoder input size\n",
    "args.dec_in = 20 # decoder input size\n",
    "args.c_out = 20 # output size\n",
    "args.factor = 5 # probsparse attn factor\n",
    "args.d_model = 1024 # dimension of model\n",
    "args.n_heads = 12 # num of heads\n",
    "args.e_layers = 4 # num of encoder layers\n",
    "args.d_layers = 3 # num of decoder layers\n",
    "args.d_ff = 2048 # dimension of fcn in model\n",
    "args.dropout = 0.05 # dropout\n",
    "args.attn = 'prob' # attention used in encoder, options:[prob, full]\n",
    "args.embed = 'timeF' # time features encoding, options:[timeF, fixed, learned]\n",
    "args.activation = 'gelu' # activation\n",
    "args.distil = True # whether to use distilling in encoder\n",
    "args.output_attention = False # whether to output attention in ecoder\n",
    "args.mix = True\n",
    "args.padding = 0\n",
    "args.freq = 'w'\n",
    "args.inverse=False\n",
    "args.timeenc=0\n",
    "\n",
    "\n",
    "args.use_gpu=True\n",
    "\n",
    "#args.cols=1\n",
    "args.checkpoints = \"/scratch/wzong/atd_tmp\"\n",
    "\n",
    "\n",
    "\"\"\"\n",
    "args.seq_len=96\n",
    "args.label_len=48\n",
    "args.pred_len=1\n",
    "\n",
    "\n",
    "args.batch_size = 24\n",
    "args.learning_rate = 0.00001\n",
    "args.loss = 'mse'\n",
    "args.lradj = 'type2'\n",
    "args.use_amp = False\n",
    "\n",
    "args.itr=2\n",
    "args.train_epochs=250\n",
    "args.patience=25\n",
    "\"\"\"\n",
    "\n",
    "args.seq_len=12\n",
    "args.label_len=6\n",
    "args.pred_len=1\n",
    "\n",
    "\n",
    "args.batch_size = 1\n",
    "args.learning_rate = 0.0001\n",
    "args.loss = 'mse'\n",
    "args.lradj = 'type1'\n",
    "args.use_amp = False\n",
    "\n",
    "args.itr=1\n",
    "args.train_epochs=1\n",
    "args.patience=3"
   ]
  },
  {
   "cell_type": "code",
   "execution_count": null,
   "id": "05722adc",
   "metadata": {},
   "outputs": [],
   "source": [
    "args = dotdict()\n",
    "\n",
    "\n",
    "args.enc_in = 20 # encoder input size\n",
    "args.dec_in = 20 # decoder input size\n",
    "args.c_out = 20 # output size\n",
    "args.factor = 5 # probsparse attn factor\n",
    "args.d_model = 512 # dimension of model\n",
    "args.n_heads = 8 # num of heads\n",
    "args.e_layers = 2 # num of encoder layers\n",
    "args.d_layers = 2 # num of decoder layers\n",
    "args.d_ff = 1024 # dimension of fcn in model\n",
    "args.dropout = 0.05 # dropout\n",
    "args.attn = 'prob' # attention used in encoder, options:[prob, full]\n",
    "args.embed = 'timeF' # time features encoding, options:[timeF, fixed, learned]\n",
    "args.activation = 'gelu' # activation\n",
    "args.distil = True # whether to use distilling in encoder\n",
    "args.output_attention = False # whether to output attention in ecoder\n",
    "args.mix = True\n",
    "args.padding = 0\n",
    "args.freq = 'w'\n",
    "args.inverse=False\n",
    "args.timeenc=1\n",
    "\n",
    "\n",
    "args.use_gpu=True\n",
    "\n",
    "#args.cols=1\n",
    "args.checkpoints = \"/scratch/wzong/atd_tmp\"\n",
    "\n",
    "\n",
    "\n",
    "args.seq_len=48\n",
    "args.label_len=24\n",
    "args.pred_len=1\n",
    "\n",
    "\n",
    "args.batch_size = 50\n",
    "args.learning_rate = 0.00001\n",
    "args.loss = 'mse'\n",
    "args.lradj = 'type2'\n",
    "args.use_amp = False\n",
    "\n",
    "args.itr=1\n",
    "args.train_epochs=1\n",
    "args.patience=5"
   ]
  },
  {
   "cell_type": "code",
   "execution_count": null,
   "id": "08544e87",
   "metadata": {},
   "outputs": [],
   "source": [
    "exp = InformerForcaster(args)"
   ]
  },
  {
   "cell_type": "code",
   "execution_count": null,
   "id": "ce4609de",
   "metadata": {
    "scrolled": true
   },
   "outputs": [],
   "source": [
    "exp.fit(test)"
   ]
  },
  {
   "cell_type": "code",
   "execution_count": null,
   "id": "edba851c",
   "metadata": {},
   "outputs": [],
   "source": [
    "lst=exp.predict([1,2,3,4])"
   ]
  },
  {
   "cell_type": "code",
   "execution_count": null,
   "id": "afb3bcd1",
   "metadata": {},
   "outputs": [],
   "source": [
    "lst"
   ]
  },
  {
   "cell_type": "code",
   "execution_count": null,
   "id": "9f693edc",
   "metadata": {},
   "outputs": [],
   "source": [
    "type(lst.columns)"
   ]
  },
  {
   "cell_type": "code",
   "execution_count": null,
   "id": "f104b22f",
   "metadata": {},
   "outputs": [],
   "source": []
  },
  {
   "cell_type": "markdown",
   "id": "fe074592",
   "metadata": {},
   "source": [
    "# Full Scale Testing on ATD Protocol (Running)"
   ]
  },
  {
   "cell_type": "code",
   "execution_count": null,
   "id": "221c4510",
   "metadata": {},
   "outputs": [],
   "source": [
    "torch.cuda.set_device(1) "
   ]
  },
  {
   "cell_type": "code",
   "execution_count": null,
   "id": "3bef6037",
   "metadata": {},
   "outputs": [],
   "source": [
    "args = dotdict()\n",
    "\n",
    "\n",
    "args.enc_in = 20 # encoder input size\n",
    "args.dec_in = 20 # decoder input size\n",
    "args.c_out = 20 # output size\n",
    "args.factor = 6 # probsparse attn factor\n",
    "args.d_model = 256 # dimension of model\n",
    "args.n_heads = 8 # num of heads\n",
    "args.e_layers = 5 # num of encoder layers\n",
    "args.d_layers = 5 # num of decoder layers\n",
    "args.d_ff = 512 # dimension of fcn in model\n",
    "args.dropout = 0.005 # dropout\n",
    "args.attn = 'prob' # attention used in encoder, options:[prob, full]\n",
    "args.embed = 'timeF' # time features encoding, options:[timeF, fixed, learned]\n",
    "args.activation = 'gelu' # activation\n",
    "args.distil = True # whether to use distilling in encoder\n",
    "args.output_attention = True # whether to output attention in ecoder\n",
    "args.mix = True\n",
    "args.padding = 0\n",
    "args.freq = 'w'\n",
    "args.inverse=False\n",
    "args.timeenc=1\n",
    "\n",
    "\n",
    "args.use_gpu=True\n",
    "\n",
    "#args.cols=1\n",
    "args.checkpoints = \"/scratch/wzong/atd_tmp\"\n",
    "\n",
    "\n",
    "\n",
    "args.seq_len=60\n",
    "args.label_len=20\n",
    "args.pred_len=1\n",
    "\n",
    "\n",
    "args.batch_size = 60\n",
    "args.learning_rate = 0.001\n",
    "args.loss = 'mse'\n",
    "args.lradj = 'type2'\n",
    "args.use_amp = False\n",
    "\n",
    "args.itr=1\n",
    "args.train_epochs=2\n",
    "args.patience=5"
   ]
  },
  {
   "cell_type": "code",
   "execution_count": null,
   "id": "1b7d7878",
   "metadata": {},
   "outputs": [],
   "source": [
    "lispDL = InformerForcaster(args)"
   ]
  },
  {
   "cell_type": "code",
   "execution_count": null,
   "id": "9f4e46b5",
   "metadata": {},
   "outputs": [],
   "source": [
    " # Load data\n",
    "truth = atd2022.io.read_csv()\n",
    "\n",
    "# Subset the data for the sake of making this fast.\n",
    "# Remove if you want to run the example on the entire dataset.\n",
    "truth = truth.head(108)\n",
    "\n",
    "# Experiment Parameters\n",
    "window = 100\n",
    "num_predict = 4\n",
    "gap = 0\n",
    "slide = 1\n",
    "\n",
    "# Create a dataset `Splitter` object for generating train/test splits\n",
    "splitter = atd2022.backtest.Splitter(\n",
    "    truth,\n",
    "    window,\n",
    "    num_predict,\n",
    "    gap,\n",
    "    slide,\n",
    "    expanding=True,\n",
    ") "
   ]
  },
  {
   "cell_type": "code",
   "execution_count": null,
   "id": "bfa7097d",
   "metadata": {
    "scrolled": true
   },
   "outputs": [],
   "source": [
    " # Populate a list of models that support the `atd2022.forecasters.Forecaster` protocol\n",
    "# with which will we generate historical forecasts\n",
    "models = [\n",
    "    lispDL,\n",
    "    atd2022.forecasters.PredictMeanForecaster(),\n",
    "    atd2022.forecasters.ExponentiallyWeightedMovingAverage(),\n",
    "]\n",
    "\n",
    "# Compute historical forecasts for all models\n",
    "predictions = [\n",
    "    atd2022.backtest.historical_forecast(model, splitter, verbose=True)\n",
    "    for model in models\n",
    "]"
   ]
  },
  {
   "cell_type": "code",
   "execution_count": null,
   "id": "c83ac3b7",
   "metadata": {},
   "outputs": [],
   "source": [
    " metric_functions = [\n",
    "    MeanAbsoluteScaledError(),\n",
    "    MeanSquaredError(square_root=True),\n",
    "]\n",
    "\n",
    "metrics_df = atd2022.metrics.compute_metrics(\n",
    "    truth,\n",
    "    predictions,\n",
    "    metric_functions,\n",
    "    models=models,\n",
    "    train=truth,\n",
    "    verbose=True,\n",
    ")\n",
    "\n",
    "metrics_n = atd2022.metrics.compute_nstep_metrics(\n",
    "    truth,\n",
    "    predictions,\n",
    "    metric_functions,\n",
    "    models=models,\n",
    "    train=truth,\n",
    "    verbose=True,\n",
    ")\n",
    "display(metrics_df)\n",
    "display(metrics_n)\n",
    "display(atd2022.viz.plot_nstep_metrics(metrics_n))"
   ]
  },
  {
   "cell_type": "code",
   "execution_count": null,
   "id": "e48d43ca",
   "metadata": {},
   "outputs": [],
   "source": []
  },
  {
   "cell_type": "code",
   "execution_count": null,
   "id": "cd9792a7",
   "metadata": {},
   "outputs": [],
   "source": [
    "args = dotdict()\n",
    "\n",
    "\n",
    "args.enc_in = 20 # encoder input size\n",
    "args.dec_in = 20 # decoder input size\n",
    "args.c_out = 20 # output size\n",
    "args.factor = 5 # probsparse attn factor\n",
    "args.d_model = 512 # dimension of model\n",
    "args.n_heads = 8 # num of heads\n",
    "args.e_layers = 3 # num of encoder layers\n",
    "args.d_layers = 2 # num of decoder layers\n",
    "args.d_ff = 2048 # dimension of fcn in model\n",
    "args.dropout = 0.05 # dropout\n",
    "args.attn = 'prob' # attention used in encoder, options:[prob, full]\n",
    "args.embed = 'timeF' # time features encoding, options:[timeF, fixed, learned]\n",
    "args.activation = 'gelu' # activation\n",
    "args.distil = True # whether to use distilling in encoder\n",
    "args.output_attention = False # whether to output attention in ecoder\n",
    "args.mix = True\n",
    "args.padding = 0\n",
    "args.freq = 'w'\n",
    "args.inverse=False\n",
    "args.timeenc=1\n",
    "\n",
    "\n",
    "args.use_gpu=True\n",
    "\n",
    "#args.cols=1\n",
    "args.checkpoints = \"/scratch/wzong/atd_tmp\"\n",
    "\n",
    "\n",
    "\n",
    "args.seq_len=36\n",
    "args.label_len=36\n",
    "args.pred_len=1\n",
    "\n",
    "\n",
    "args.batch_size = 45\n",
    "args.learning_rate = 0.00001\n",
    "args.loss = 'mse'\n",
    "args.lradj = 'type2'\n",
    "args.use_amp = False\n",
    "\n",
    "args.itr=1\n",
    "args.train_epochs=6\n",
    "args.patience=5"
   ]
  },
  {
   "cell_type": "code",
   "execution_count": null,
   "id": "428f265a",
   "metadata": {},
   "outputs": [],
   "source": [
    "lispDL1 = InformerForcaster(args)"
   ]
  },
  {
   "cell_type": "code",
   "execution_count": null,
   "id": "3039ae1f",
   "metadata": {},
   "outputs": [],
   "source": [
    " # Load data\n",
    "truth = atd2022.io.read_csv()\n",
    "\n",
    "# Subset the data for the sake of making this fast.\n",
    "# Remove if you want to run the example on the entire dataset.\n",
    "truth = truth.head(108)\n",
    "\n",
    "# Experiment Parameters\n",
    "window = 100\n",
    "num_predict = 4\n",
    "gap = 0\n",
    "slide = 1\n",
    "\n",
    "# Create a dataset `Splitter` object for generating train/test splits\n",
    "splitter = atd2022.backtest.Splitter(\n",
    "    truth,\n",
    "    window,\n",
    "    num_predict,\n",
    "    gap,\n",
    "    slide,\n",
    "    expanding=True,\n",
    ") "
   ]
  },
  {
   "cell_type": "code",
   "execution_count": null,
   "id": "8587785b",
   "metadata": {},
   "outputs": [],
   "source": [
    " # Populate a list of models that support the `atd2022.forecasters.Forecaster` protocol\n",
    "# with which will we generate historical forecasts\n",
    "models = [\n",
    "    lispDL1,\n",
    "    atd2022.forecasters.PredictMeanForecaster(),\n",
    "    atd2022.forecasters.ExponentiallyWeightedMovingAverage(),\n",
    "]\n",
    "\n",
    "# Compute historical forecasts for all models\n",
    "predictions = [\n",
    "    atd2022.backtest.historical_forecast(model, splitter, verbose=True)\n",
    "    for model in models\n",
    "]"
   ]
  },
  {
   "cell_type": "code",
   "execution_count": null,
   "id": "48e38ab6",
   "metadata": {},
   "outputs": [],
   "source": [
    " metric_functions = [\n",
    "    MeanAbsoluteScaledError(),\n",
    "    MeanSquaredError(square_root=True),\n",
    "]\n",
    "\n",
    "metrics_df = atd2022.metrics.compute_metrics(\n",
    "    truth,\n",
    "    predictions,\n",
    "    metric_functions,\n",
    "    models=models,\n",
    "    train=truth,\n",
    "    verbose=True,\n",
    ")\n",
    "\n",
    "metrics_n = atd2022.metrics.compute_nstep_metrics(\n",
    "    truth,\n",
    "    predictions,\n",
    "    metric_functions,\n",
    "    models=models,\n",
    "    train=truth,\n",
    "    verbose=True,\n",
    ")\n",
    "display(metrics_df)\n",
    "display(metrics_n)\n",
    "display(atd2022.viz.plot_nstep_metrics(metrics_n))"
   ]
  },
  {
   "cell_type": "code",
   "execution_count": null,
   "id": "8225c274",
   "metadata": {},
   "outputs": [],
   "source": []
  }
 ],
 "metadata": {
  "kernelspec": {
   "display_name": "atd2022",
   "language": "python",
   "name": "atd2022"
  },
  "language_info": {
   "codemirror_mode": {
    "name": "ipython",
    "version": 3
   },
   "file_extension": ".py",
   "mimetype": "text/x-python",
   "name": "python",
   "nbconvert_exporter": "python",
   "pygments_lexer": "ipython3",
   "version": "3.9.13"
  }
 },
 "nbformat": 4,
 "nbformat_minor": 5
}
