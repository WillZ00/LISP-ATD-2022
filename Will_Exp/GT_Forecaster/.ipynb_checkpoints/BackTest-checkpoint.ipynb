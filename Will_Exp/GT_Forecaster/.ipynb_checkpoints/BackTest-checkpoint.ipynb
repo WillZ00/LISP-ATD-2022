{
 "cells": [
  {
   "cell_type": "code",
   "execution_count": null,
   "id": "7dab14d5",
   "metadata": {},
   "outputs": [],
   "source": [
    "import atd2022\n",
    "import torch\n",
    "import pandas as pd\n",
    "import numpy as np\n",
    "from utils.tools import dotdict\n",
    "from GT import GTForecaster\n",
    "pd.set_option('display.max_columns', None)\n",
    "from sktime.performance_metrics.forecasting import (\n",
    "    MeanAbsoluteScaledError,\n",
    "    MeanSquaredError,\n",
    ")\n",
    "import holoviews as hv\n",
    "hv.extension(\"bokeh\")"
   ]
  }
 ],
 "metadata": {
  "kernelspec": {
   "display_name": "Python 3 (ipykernel)",
   "language": "python",
   "name": "python3"
  },
  "language_info": {
   "codemirror_mode": {
    "name": "ipython",
    "version": 3
   },
   "file_extension": ".py",
   "mimetype": "text/x-python",
   "name": "python",
   "nbconvert_exporter": "python",
   "pygments_lexer": "ipython3",
   "version": "3.9.13"
  }
 },
 "nbformat": 4,
 "nbformat_minor": 5
}
