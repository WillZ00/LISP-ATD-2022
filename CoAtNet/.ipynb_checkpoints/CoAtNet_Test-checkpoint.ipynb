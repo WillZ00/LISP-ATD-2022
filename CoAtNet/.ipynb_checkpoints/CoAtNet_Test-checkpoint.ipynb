{
 "cells": [
  {
   "cell_type": "code",
   "execution_count": null,
   "id": "dcc8d240",
   "metadata": {},
   "outputs": [],
   "source": [
    "import atd2022\n",
    "import torch\n",
    "import pandas as pd\n",
    "import numpy as np\n",
    "pd.set_option('display.max_columns', None)\n",
    "from sktime.performance_metrics.forecasting import (\n",
    "    MeanAbsoluteScaledError,\n",
    "    MeanSquaredError,\n",
    ")\n",
    "#import  as util\n",
    "from atd_CoAtNet.atd_CoAtNet import ATD_CoAtNet\n",
    "from utils.tools import dotdict"
   ]
  },
  {
   "cell_type": "code",
   "execution_count": null,
   "id": "c6a287e0",
   "metadata": {},
   "outputs": [],
   "source": [
    "import torch\n",
    "torch.cuda.is_available()"
   ]
  },
  {
   "cell_type": "markdown",
   "id": "94f8349e",
   "metadata": {},
   "source": [
    "# Small Scale Testing"
   ]
  },
  {
   "cell_type": "code",
   "execution_count": null,
   "id": "8d051b6d",
   "metadata": {},
   "outputs": [],
   "source": [
    "torch.cuda.set_device(2) "
   ]
  },
  {
   "cell_type": "code",
   "execution_count": null,
   "id": "d802c8ef",
   "metadata": {},
   "outputs": [],
   "source": [
    "truth = atd2022.io.read_csv()"
   ]
  },
  {
   "cell_type": "code",
   "execution_count": null,
   "id": "0ef8f2e4",
   "metadata": {},
   "outputs": [],
   "source": [
    "test = truth[[\"AA\"]]"
   ]
  },
  {
   "cell_type": "code",
   "execution_count": null,
   "id": "ba0ac6e4",
   "metadata": {},
   "outputs": [],
   "source": [
    "args = dotdict()\n",
    "\n",
    "args.use_gpu=True\n",
    "args.lr=0.0001\n",
    "args.batch_size=1\n",
    "args.train_epochs=2"
   ]
  },
  {
   "cell_type": "code",
   "execution_count": null,
   "id": "a3301d60",
   "metadata": {},
   "outputs": [],
   "source": [
    "exp = ATD_CoAtNet(args, test)"
   ]
  },
  {
   "cell_type": "code",
   "execution_count": null,
   "id": "19a2ee71",
   "metadata": {},
   "outputs": [],
   "source": [
    "exp.train()"
   ]
  },
  {
   "cell_type": "code",
   "execution_count": null,
   "id": "044e77ce",
   "metadata": {},
   "outputs": [],
   "source": []
  }
 ],
 "metadata": {
  "kernelspec": {
   "display_name": "atd2022",
   "language": "python",
   "name": "atd2022"
  },
  "language_info": {
   "codemirror_mode": {
    "name": "ipython",
    "version": 3
   },
   "file_extension": ".py",
   "mimetype": "text/x-python",
   "name": "python",
   "nbconvert_exporter": "python",
   "pygments_lexer": "ipython3",
   "version": "3.9.13"
  }
 },
 "nbformat": 4,
 "nbformat_minor": 5
}
