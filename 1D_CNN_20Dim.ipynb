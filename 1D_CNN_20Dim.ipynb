{
 "cells": [
  {
   "cell_type": "code",
   "execution_count": 280,
   "id": "3aa36b55",
   "metadata": {},
   "outputs": [
    {
     "data": {
      "text/plain": [
       "<module 'my_mod' from '/Users/griffinheyrich/git atd2022/LISP-ATD-2022/my_mod.py'>"
      ]
     },
     "execution_count": 280,
     "metadata": {},
     "output_type": "execute_result"
    }
   ],
   "source": [
    "import atd2022\n",
    "import pandas as pd\n",
    "import numpy as np\n",
    "import matplotlib.pyplot as plt\n",
    "import my_mod as util\n",
    "import importlib\n",
    "importlib.reload(util)"
   ]
  },
  {
   "cell_type": "code",
   "execution_count": 3,
   "id": "019a8b11",
   "metadata": {},
   "outputs": [
    {
     "name": "stdout",
     "output_type": "stream",
     "text": [
      "12\n"
     ]
    }
   ],
   "source": [
    "print(\"12\")"
   ]
  },
  {
   "cell_type": "code",
   "execution_count": 4,
   "id": "67445cd5",
   "metadata": {},
   "outputs": [],
   "source": [
    "pd.options.display.max_columns = None"
   ]
  },
  {
   "cell_type": "markdown",
   "id": "6966aeba",
   "metadata": {},
   "source": [
    "# 1-dim CNN experiment on 20-dim time series vector"
   ]
  },
  {
   "cell_type": "markdown",
   "id": "2d2adb51",
   "metadata": {},
   "source": []
  },
  {
   "cell_type": "markdown",
   "id": "74f60cbe",
   "metadata": {},
   "source": [
    "# Data Import/Preprocessing"
   ]
  },
  {
   "cell_type": "code",
   "execution_count": 5,
   "id": "88943f95",
   "metadata": {},
   "outputs": [],
   "source": [
    "data = atd2022.io.read_csv()"
   ]
  },
  {
   "cell_type": "code",
   "execution_count": 6,
   "id": "b43bf8f7",
   "metadata": {},
   "outputs": [],
   "source": [
    "test_region=data[\"AA\"]"
   ]
  },
  {
   "cell_type": "code",
   "execution_count": 7,
   "id": "43a14bdf",
   "metadata": {},
   "outputs": [
    {
     "data": {
      "text/plain": [
       "215"
      ]
     },
     "execution_count": 7,
     "metadata": {},
     "output_type": "execute_result"
    }
   ],
   "source": [
    "len(test_region)"
   ]
  },
  {
   "cell_type": "code",
   "execution_count": null,
   "id": "d49e966e",
   "metadata": {},
   "outputs": [],
   "source": []
  },
  {
   "cell_type": "code",
   "execution_count": 8,
   "id": "506fa411",
   "metadata": {},
   "outputs": [
    {
     "data": {
      "text/html": [
       "<div>\n",
       "<style scoped>\n",
       "    .dataframe tbody tr th:only-of-type {\n",
       "        vertical-align: middle;\n",
       "    }\n",
       "\n",
       "    .dataframe tbody tr th {\n",
       "        vertical-align: top;\n",
       "    }\n",
       "\n",
       "    .dataframe thead th {\n",
       "        text-align: right;\n",
       "    }\n",
       "</style>\n",
       "<table border=\"1\" class=\"dataframe\">\n",
       "  <thead>\n",
       "    <tr style=\"text-align: right;\">\n",
       "      <th>Event</th>\n",
       "      <th>01</th>\n",
       "      <th>02</th>\n",
       "      <th>03</th>\n",
       "      <th>04</th>\n",
       "      <th>05</th>\n",
       "      <th>06</th>\n",
       "      <th>07</th>\n",
       "      <th>08</th>\n",
       "      <th>09</th>\n",
       "      <th>10</th>\n",
       "      <th>11</th>\n",
       "      <th>12</th>\n",
       "      <th>13</th>\n",
       "      <th>14</th>\n",
       "      <th>15</th>\n",
       "      <th>16</th>\n",
       "      <th>17</th>\n",
       "      <th>18</th>\n",
       "      <th>19</th>\n",
       "      <th>20</th>\n",
       "    </tr>\n",
       "  </thead>\n",
       "  <tbody>\n",
       "    <tr>\n",
       "      <th>2018-01-01/2018-01-07</th>\n",
       "      <td>7</td>\n",
       "      <td>5</td>\n",
       "      <td>26</td>\n",
       "      <td>22</td>\n",
       "      <td>5</td>\n",
       "      <td>0</td>\n",
       "      <td>0</td>\n",
       "      <td>1</td>\n",
       "      <td>1</td>\n",
       "      <td>0</td>\n",
       "      <td>3</td>\n",
       "      <td>1</td>\n",
       "      <td>0</td>\n",
       "      <td>0</td>\n",
       "      <td>0</td>\n",
       "      <td>0</td>\n",
       "      <td>1</td>\n",
       "      <td>0</td>\n",
       "      <td>0</td>\n",
       "      <td>0</td>\n",
       "    </tr>\n",
       "    <tr>\n",
       "      <th>2018-01-08/2018-01-14</th>\n",
       "      <td>13</td>\n",
       "      <td>9</td>\n",
       "      <td>20</td>\n",
       "      <td>85</td>\n",
       "      <td>4</td>\n",
       "      <td>2</td>\n",
       "      <td>0</td>\n",
       "      <td>2</td>\n",
       "      <td>8</td>\n",
       "      <td>0</td>\n",
       "      <td>0</td>\n",
       "      <td>0</td>\n",
       "      <td>0</td>\n",
       "      <td>0</td>\n",
       "      <td>0</td>\n",
       "      <td>1</td>\n",
       "      <td>8</td>\n",
       "      <td>0</td>\n",
       "      <td>0</td>\n",
       "      <td>0</td>\n",
       "    </tr>\n",
       "    <tr>\n",
       "      <th>2018-01-15/2018-01-21</th>\n",
       "      <td>14</td>\n",
       "      <td>5</td>\n",
       "      <td>8</td>\n",
       "      <td>10</td>\n",
       "      <td>1</td>\n",
       "      <td>0</td>\n",
       "      <td>0</td>\n",
       "      <td>1</td>\n",
       "      <td>0</td>\n",
       "      <td>1</td>\n",
       "      <td>0</td>\n",
       "      <td>1</td>\n",
       "      <td>0</td>\n",
       "      <td>0</td>\n",
       "      <td>0</td>\n",
       "      <td>0</td>\n",
       "      <td>3</td>\n",
       "      <td>0</td>\n",
       "      <td>2</td>\n",
       "      <td>0</td>\n",
       "    </tr>\n",
       "    <tr>\n",
       "      <th>2018-01-22/2018-01-28</th>\n",
       "      <td>5</td>\n",
       "      <td>2</td>\n",
       "      <td>0</td>\n",
       "      <td>23</td>\n",
       "      <td>3</td>\n",
       "      <td>2</td>\n",
       "      <td>5</td>\n",
       "      <td>1</td>\n",
       "      <td>0</td>\n",
       "      <td>0</td>\n",
       "      <td>2</td>\n",
       "      <td>0</td>\n",
       "      <td>0</td>\n",
       "      <td>0</td>\n",
       "      <td>0</td>\n",
       "      <td>3</td>\n",
       "      <td>4</td>\n",
       "      <td>0</td>\n",
       "      <td>4</td>\n",
       "      <td>0</td>\n",
       "    </tr>\n",
       "    <tr>\n",
       "      <th>2018-01-29/2018-02-04</th>\n",
       "      <td>3</td>\n",
       "      <td>2</td>\n",
       "      <td>7</td>\n",
       "      <td>37</td>\n",
       "      <td>6</td>\n",
       "      <td>10</td>\n",
       "      <td>4</td>\n",
       "      <td>7</td>\n",
       "      <td>0</td>\n",
       "      <td>1</td>\n",
       "      <td>1</td>\n",
       "      <td>1</td>\n",
       "      <td>0</td>\n",
       "      <td>0</td>\n",
       "      <td>0</td>\n",
       "      <td>0</td>\n",
       "      <td>0</td>\n",
       "      <td>0</td>\n",
       "      <td>0</td>\n",
       "      <td>0</td>\n",
       "    </tr>\n",
       "    <tr>\n",
       "      <th>2018-02-05/2018-02-11</th>\n",
       "      <td>7</td>\n",
       "      <td>6</td>\n",
       "      <td>7</td>\n",
       "      <td>49</td>\n",
       "      <td>6</td>\n",
       "      <td>0</td>\n",
       "      <td>1</td>\n",
       "      <td>2</td>\n",
       "      <td>2</td>\n",
       "      <td>2</td>\n",
       "      <td>6</td>\n",
       "      <td>0</td>\n",
       "      <td>1</td>\n",
       "      <td>0</td>\n",
       "      <td>0</td>\n",
       "      <td>0</td>\n",
       "      <td>2</td>\n",
       "      <td>0</td>\n",
       "      <td>4</td>\n",
       "      <td>0</td>\n",
       "    </tr>\n",
       "  </tbody>\n",
       "</table>\n",
       "</div>"
      ],
      "text/plain": [
       "Event                  01  02  03  04  05  06  07  08  09  10  11  12  13  14  \\\n",
       "2018-01-01/2018-01-07   7   5  26  22   5   0   0   1   1   0   3   1   0   0   \n",
       "2018-01-08/2018-01-14  13   9  20  85   4   2   0   2   8   0   0   0   0   0   \n",
       "2018-01-15/2018-01-21  14   5   8  10   1   0   0   1   0   1   0   1   0   0   \n",
       "2018-01-22/2018-01-28   5   2   0  23   3   2   5   1   0   0   2   0   0   0   \n",
       "2018-01-29/2018-02-04   3   2   7  37   6  10   4   7   0   1   1   1   0   0   \n",
       "2018-02-05/2018-02-11   7   6   7  49   6   0   1   2   2   2   6   0   1   0   \n",
       "\n",
       "Event                  15  16  17  18  19  20  \n",
       "2018-01-01/2018-01-07   0   0   1   0   0   0  \n",
       "2018-01-08/2018-01-14   0   1   8   0   0   0  \n",
       "2018-01-15/2018-01-21   0   0   3   0   2   0  \n",
       "2018-01-22/2018-01-28   0   3   4   0   4   0  \n",
       "2018-01-29/2018-02-04   0   0   0   0   0   0  \n",
       "2018-02-05/2018-02-11   0   0   2   0   4   0  "
      ]
     },
     "execution_count": 8,
     "metadata": {},
     "output_type": "execute_result"
    }
   ],
   "source": [
    "test_region.tail(6)"
   ]
  },
  {
   "cell_type": "code",
   "execution_count": 9,
   "id": "fba19885",
   "metadata": {},
   "outputs": [],
   "source": [
    "test=util.getMultiDXY(test_region, n_lags=2)"
   ]
  },
  {
   "cell_type": "code",
   "execution_count": 10,
   "id": "4954d287",
   "metadata": {},
   "outputs": [
    {
     "data": {
      "text/plain": [
       "(array([[[ 0.,  0.,  0., ...,  0.,  0.,  0.],\n",
       "         [ 2.,  0.,  0., ...,  0.,  0.,  0.]],\n",
       " \n",
       "        [[ 2.,  0.,  0., ...,  0.,  0.,  0.],\n",
       "         [ 0.,  1.,  3., ...,  0.,  1.,  0.]],\n",
       " \n",
       "        [[ 0.,  1.,  3., ...,  0.,  1.,  0.],\n",
       "         [ 0.,  1.,  0., ...,  0.,  0.,  0.]],\n",
       " \n",
       "        ...,\n",
       " \n",
       "        [[13.,  9., 20., ...,  0.,  0.,  0.],\n",
       "         [14.,  5.,  8., ...,  0.,  2.,  0.]],\n",
       " \n",
       "        [[14.,  5.,  8., ...,  0.,  2.,  0.],\n",
       "         [ 5.,  2.,  0., ...,  0.,  4.,  0.]],\n",
       " \n",
       "        [[ 5.,  2.,  0., ...,  0.,  4.,  0.],\n",
       "         [ 3.,  2.,  7., ...,  0.,  0.,  0.]]]),\n",
       " array([[ 0.,  1.,  3., ...,  0.,  1.,  0.],\n",
       "        [ 0.,  1.,  0., ...,  0.,  0.,  0.],\n",
       "        [ 6.,  1., 59., ...,  0.,  0.,  0.],\n",
       "        ...,\n",
       "        [ 5.,  2.,  0., ...,  0.,  4.,  0.],\n",
       "        [ 3.,  2.,  7., ...,  0.,  0.,  0.],\n",
       "        [ 7.,  6.,  7., ...,  0.,  4.,  0.]]))"
      ]
     },
     "execution_count": 10,
     "metadata": {},
     "output_type": "execute_result"
    }
   ],
   "source": [
    "test"
   ]
  },
  {
   "cell_type": "code",
   "execution_count": 17,
   "id": "47e0f026",
   "metadata": {
    "scrolled": false
   },
   "outputs": [],
   "source": [
    "x,y = util.getMultiDXY(test_region, n_lags=2)"
   ]
  },
  {
   "cell_type": "code",
   "execution_count": null,
   "id": "d11d60c3",
   "metadata": {},
   "outputs": [],
   "source": []
  },
  {
   "cell_type": "code",
   "execution_count": 18,
   "id": "935efc20",
   "metadata": {},
   "outputs": [
    {
     "data": {
      "text/plain": [
       "array([[[ 0.,  0.,  0., ...,  0.,  0.,  0.],\n",
       "        [ 2.,  0.,  0., ...,  0.,  0.,  0.]],\n",
       "\n",
       "       [[ 2.,  0.,  0., ...,  0.,  0.,  0.],\n",
       "        [ 0.,  1.,  3., ...,  0.,  1.,  0.]],\n",
       "\n",
       "       [[ 0.,  1.,  3., ...,  0.,  1.,  0.],\n",
       "        [ 0.,  1.,  0., ...,  0.,  0.,  0.]],\n",
       "\n",
       "       ...,\n",
       "\n",
       "       [[13.,  9., 20., ...,  0.,  0.,  0.],\n",
       "        [14.,  5.,  8., ...,  0.,  2.,  0.]],\n",
       "\n",
       "       [[14.,  5.,  8., ...,  0.,  2.,  0.],\n",
       "        [ 5.,  2.,  0., ...,  0.,  4.,  0.]],\n",
       "\n",
       "       [[ 5.,  2.,  0., ...,  0.,  4.,  0.],\n",
       "        [ 3.,  2.,  7., ...,  0.,  0.,  0.]]])"
      ]
     },
     "execution_count": 18,
     "metadata": {},
     "output_type": "execute_result"
    }
   ],
   "source": [
    "x"
   ]
  },
  {
   "cell_type": "code",
   "execution_count": 19,
   "id": "410a189b",
   "metadata": {},
   "outputs": [
    {
     "data": {
      "text/plain": [
       "array([[ 0.,  1.,  3., ...,  0.,  1.,  0.],\n",
       "       [ 0.,  1.,  0., ...,  0.,  0.,  0.],\n",
       "       [ 6.,  1., 59., ...,  0.,  0.,  0.],\n",
       "       ...,\n",
       "       [ 5.,  2.,  0., ...,  0.,  4.,  0.],\n",
       "       [ 3.,  2.,  7., ...,  0.,  0.,  0.],\n",
       "       [ 7.,  6.,  7., ...,  0.,  4.,  0.]])"
      ]
     },
     "execution_count": 19,
     "metadata": {},
     "output_type": "execute_result"
    }
   ],
   "source": [
    "y"
   ]
  },
  {
   "cell_type": "code",
   "execution_count": 20,
   "id": "b8c81de9",
   "metadata": {},
   "outputs": [
    {
     "data": {
      "text/plain": [
       "(213, 20)"
      ]
     },
     "execution_count": 20,
     "metadata": {},
     "output_type": "execute_result"
    }
   ],
   "source": [
    "y.shape"
   ]
  },
  {
   "cell_type": "code",
   "execution_count": 22,
   "id": "d3a7ed1d",
   "metadata": {},
   "outputs": [
    {
     "data": {
      "text/plain": [
       "(213, 2, 20)"
      ]
     },
     "execution_count": 22,
     "metadata": {},
     "output_type": "execute_result"
    }
   ],
   "source": [
    "x.shape"
   ]
  },
  {
   "cell_type": "code",
   "execution_count": 23,
   "id": "f4c49da2",
   "metadata": {},
   "outputs": [],
   "source": [
    "# (#of samples, timesteps, #features(i.e. number of parallel time series))"
   ]
  },
  {
   "cell_type": "code",
   "execution_count": 24,
   "id": "1988fd76",
   "metadata": {},
   "outputs": [],
   "source": [
    "n_features = 20\n",
    "x_train=x.reshape((x.shape[0], x.shape[1], n_features))"
   ]
  },
  {
   "cell_type": "code",
   "execution_count": 25,
   "id": "8aa19df3",
   "metadata": {},
   "outputs": [
    {
     "data": {
      "text/plain": [
       "(213, 2, 20)"
      ]
     },
     "execution_count": 25,
     "metadata": {},
     "output_type": "execute_result"
    }
   ],
   "source": [
    "x_train.shape"
   ]
  },
  {
   "cell_type": "code",
   "execution_count": 26,
   "id": "ee7c89ca",
   "metadata": {},
   "outputs": [],
   "source": [
    "y_train=y"
   ]
  },
  {
   "cell_type": "markdown",
   "id": "c8eed53d",
   "metadata": {},
   "source": [
    "# CNN Model Building"
   ]
  },
  {
   "cell_type": "code",
   "execution_count": 27,
   "id": "97d77517",
   "metadata": {},
   "outputs": [],
   "source": [
    "import torch\n",
    "from torch import nn\n",
    "from torch.utils.data import Dataset,DataLoader\n",
    "import gc\n",
    "device=torch.device(\"cpu\")"
   ]
  },
  {
   "cell_type": "code",
   "execution_count": 28,
   "id": "5339e683",
   "metadata": {},
   "outputs": [],
   "source": [
    "class CNN_ForecastNet(nn.Module):\n",
    "    def __init__(self):\n",
    "        super(CNN_ForecastNet,self).__init__()\n",
    "        self.conv1d = nn.Conv1d(2,128,kernel_size=1)\n",
    "        self.relu = nn.ReLU(inplace=True)\n",
    "        self.fc1 = nn.Linear(128,64)\n",
    "        self.fc2 = nn.Linear(64,1)\n",
    "        \n",
    "    def forward(self,x):\n",
    "        x = self.conv1d(x)\n",
    "        x = self.relu(x)\n",
    "        #print(x.shape)\n",
    "        x = x.view(-1,128)\n",
    "        #print(x.shape)\n",
    "        x = self.fc1(x)\n",
    "        x = self.relu(x)\n",
    "        x = self.fc2(x)\n",
    "        \n",
    "        return x"
   ]
  },
  {
   "cell_type": "code",
   "execution_count": 29,
   "id": "2eef3335",
   "metadata": {},
   "outputs": [],
   "source": [
    "model = CNN_ForecastNet().to(device)\n",
    "optimizer = torch.optim.Adam(model.parameters(), lr=1e-5)\n",
    "criterion = nn.MSELoss()"
   ]
  },
  {
   "cell_type": "code",
   "execution_count": 30,
   "id": "8332014b",
   "metadata": {},
   "outputs": [],
   "source": [
    "class myDataset(Dataset):\n",
    "    def __init__(self,feature,target):\n",
    "        self.feature = feature\n",
    "        self.target = target\n",
    "    \n",
    "    def __len__(self):\n",
    "        return len(self.feature)\n",
    "    \n",
    "    def __getitem__(self,idx):\n",
    "        item = self.feature[idx]\n",
    "        label = self.target[idx]\n",
    "        \n",
    "        return item,label"
   ]
  },
  {
   "cell_type": "code",
   "execution_count": 59,
   "id": "85b7e61e",
   "metadata": {},
   "outputs": [],
   "source": [
    "train = myDataset(x_train,y_train)\n",
    "train_loader = torch.utils.data.DataLoader(train,batch_size=1,shuffle=False)"
   ]
  },
  {
   "cell_type": "code",
   "execution_count": 60,
   "id": "e7edebbf",
   "metadata": {},
   "outputs": [],
   "source": [
    "train_losses = []\n",
    "valid_losses = []\n",
    "def Train():\n",
    "    \n",
    "    running_loss = .0\n",
    "    \n",
    "    model.train()\n",
    "    \n",
    "    for idx, (inputs,labels) in enumerate(train_loader):\n",
    "        inputs=inputs.to(torch.float32)\n",
    "        labels=labels.to(torch.float32)\n",
    "        inputs = inputs.to(device)\n",
    "        labels = labels.to(device)\n",
    "        optimizer.zero_grad(set_to_none = True)\n",
    "        preds = model(inputs.float())\n",
    "        loss = criterion(preds,labels)\n",
    "        loss.backward()\n",
    "        optimizer.step()\n",
    "        running_loss += loss\n",
    "        \n",
    "    train_loss = running_loss/len(train_loader)\n",
    "    train_losses.append(train_loss.detach().numpy())\n",
    "    \n",
    "    print(f'train_loss {train_loss}')\n",
    "\n",
    "def Valid():\n",
    "    running_loss = .0\n",
    "    \n",
    "    model.eval()\n",
    "    \n",
    "    with torch.no_grad():\n",
    "        for idx, (inputs, labels) in enumerate(valid_loader):\n",
    "            inputs = inputs.to(device)\n",
    "            labels = labels.to(device)\n",
    "            optimizer.zero_grad()\n",
    "            preds = model(inputs.float())\n",
    "            loss = criterion(preds,labels)\n",
    "            running_loss += loss\n",
    "            \n",
    "        valid_loss = running_loss/len(valid_loader)\n",
    "        valid_losses.append(valid_loss.detach().numpy())\n",
    "        print(f'valid_loss {valid_loss}')"
   ]
  },
  {
   "cell_type": "code",
   "execution_count": 61,
   "id": "b105b4f2",
   "metadata": {
    "scrolled": true
   },
   "outputs": [
    {
     "name": "stdout",
     "output_type": "stream",
     "text": [
      "epochs 1/20\n",
      "train_loss 84.16117095947266\n",
      "epochs 2/20\n",
      "train_loss 84.15989685058594\n",
      "epochs 3/20\n",
      "train_loss 84.15828704833984\n",
      "epochs 4/20\n",
      "train_loss 84.15709686279297\n",
      "epochs 5/20\n",
      "train_loss 84.15557098388672\n",
      "epochs 6/20\n",
      "train_loss 84.15420532226562\n",
      "epochs 7/20\n",
      "train_loss 84.15274047851562\n",
      "epochs 8/20\n",
      "train_loss 84.15138244628906\n",
      "epochs 9/20\n",
      "train_loss 84.15001678466797\n",
      "epochs 10/20\n",
      "train_loss 84.14848327636719\n",
      "epochs 11/20\n",
      "train_loss 84.14716339111328\n",
      "epochs 12/20\n",
      "train_loss 84.14579772949219\n",
      "epochs 13/20\n",
      "train_loss 84.14424133300781\n",
      "epochs 14/20\n",
      "train_loss 84.14291381835938\n",
      "epochs 15/20\n",
      "train_loss 84.14151763916016\n",
      "epochs 16/20\n",
      "train_loss 84.1400375366211\n",
      "epochs 17/20\n",
      "train_loss 84.13875579833984\n",
      "epochs 18/20\n",
      "train_loss 84.13734436035156\n",
      "epochs 19/20\n",
      "train_loss 84.13581085205078\n",
      "epochs 20/20\n",
      "train_loss 84.13443756103516\n"
     ]
    }
   ],
   "source": [
    "epochs = 20\n",
    "for epoch in range(epochs):\n",
    "    print('epochs {}/{}'.format(epoch+1,epochs))\n",
    "    Train()\n",
    "    #Valid()\n",
    "    gc.collect()"
   ]
  },
  {
   "cell_type": "code",
   "execution_count": 62,
   "id": "7c7c9ca1",
   "metadata": {},
   "outputs": [
    {
     "data": {
      "text/plain": [
       "<matplotlib.legend.Legend at 0x14208e850>"
      ]
     },
     "execution_count": 62,
     "metadata": {},
     "output_type": "execute_result"
    },
    {
     "data": {
      "image/png": "[encoded data removed]",
      "text/plain": [
       "<Figure size 432x288 with 1 Axes>"
      ]
     },
     "metadata": {
      "needs_background": "light"
     },
     "output_type": "display_data"
    }
   ],
   "source": [
    "import matplotlib.pyplot as plt\n",
    "plt.plot(train_losses,label='train_loss')\n",
    "#plt.plot(valid_losses,label='valid_loss')\n",
    "plt.title('MSE Loss')\n",
    "#plt.ylim(0, 100)\n",
    "plt.legend(bbox_to_anchor=(1.05, 1), loc='upper left', borderaxespad=0.)"
   ]
  },
  {
   "cell_type": "code",
   "execution_count": null,
   "id": "9564b712",
   "metadata": {},
   "outputs": [],
   "source": []
  },
  {
   "cell_type": "markdown",
   "id": "868b70c0",
   "metadata": {},
   "source": [
    "# Testing Set Preparation/Model testing"
   ]
  },
  {
   "cell_type": "code",
   "execution_count": 215,
   "id": "bf0f6a40",
   "metadata": {},
   "outputs": [],
   "source": [
    "tmp_stack = np.zeros(shape=(20))"
   ]
  },
  {
   "cell_type": "code",
   "execution_count": 274,
   "id": "4bc1daf6",
   "metadata": {},
   "outputs": [],
   "source": [
    "last2 = test_region.tail(2)"
   ]
  },
  {
   "cell_type": "code",
   "execution_count": 275,
   "id": "261d36b2",
   "metadata": {},
   "outputs": [],
   "source": [
    "last2=last2.to_numpy()"
   ]
  },
  {
   "cell_type": "code",
   "execution_count": 278,
   "id": "421293a8",
   "metadata": {},
   "outputs": [
    {
     "data": {
      "text/plain": [
       "array([ 3,  2,  7, 37,  6, 10,  4,  7,  0,  1,  1,  1,  0,  0,  0,  0,  0,\n",
       "        0,  0,  0])"
      ]
     },
     "execution_count": 278,
     "metadata": {},
     "output_type": "execute_result"
    }
   ],
   "source": [
    "last2[0]"
   ]
  },
  {
   "cell_type": "code",
   "execution_count": 279,
   "id": "97b6bbc0",
   "metadata": {},
   "outputs": [],
   "source": [
    "test=last2[-2:].reshape(1,last2.shape[0], last2.shape[1])"
   ]
  },
  {
   "cell_type": "code",
   "execution_count": 262,
   "id": "39df52c1",
   "metadata": {},
   "outputs": [
    {
     "data": {
      "text/plain": [
       "array([[[ 3,  2,  7, 37,  6, 10,  4,  7,  0,  1,  1,  1,  0,  0,  0,  0,\n",
       "          0,  0,  0,  0],\n",
       "        [ 7,  6,  7, 49,  6,  0,  1,  2,  2,  2,  6,  0,  1,  0,  0,  0,\n",
       "          2,  0,  4,  0]]])"
      ]
     },
     "execution_count": 262,
     "metadata": {},
     "output_type": "execute_result"
    }
   ],
   "source": [
    "test"
   ]
  },
  {
   "cell_type": "code",
   "execution_count": 245,
   "id": "07388d14",
   "metadata": {},
   "outputs": [
    {
     "data": {
      "text/plain": [
       "array([[[ 3,  2,  7, 37,  6, 10,  4,  7,  0,  1,  1,  1,  0,  0,  0,  0,\n",
       "          0,  0,  0,  0],\n",
       "        [ 7,  6,  7, 49,  6,  0,  1,  2,  2,  2,  6,  0,  1,  0,  0,  0,\n",
       "          2,  0,  4,  0]]])"
      ]
     },
     "execution_count": 245,
     "metadata": {},
     "output_type": "execute_result"
    }
   ],
   "source": [
    "last2.reshape(1,last2.shape[0], last2.shape[1])"
   ]
  },
  {
   "cell_type": "code",
   "execution_count": 217,
   "id": "6f11d085",
   "metadata": {},
   "outputs": [
    {
     "data": {
      "text/plain": [
       "array([0., 0., 0., 0., 0., 0., 0., 0., 0., 0., 0., 0., 0., 0., 0., 0., 0.,\n",
       "       0., 0., 0.])"
      ]
     },
     "execution_count": 217,
     "metadata": {},
     "output_type": "execute_result"
    }
   ],
   "source": [
    "tmp_stack"
   ]
  },
  {
   "cell_type": "code",
   "execution_count": 218,
   "id": "72f9bca0",
   "metadata": {},
   "outputs": [],
   "source": [
    "tmp_stack = np.vstack((tmp_stack, last2.to_numpy()[0]))"
   ]
  },
  {
   "cell_type": "code",
   "execution_count": 219,
   "id": "8026cc5d",
   "metadata": {},
   "outputs": [
    {
     "data": {
      "text/plain": [
       "array([[ 0.,  0.,  0.,  0.,  0.,  0.,  0.,  0.,  0.,  0.,  0.,  0.,  0.,\n",
       "         0.,  0.,  0.,  0.,  0.,  0.,  0.],\n",
       "       [ 3.,  2.,  7., 37.,  6., 10.,  4.,  7.,  0.,  1.,  1.,  1.,  0.,\n",
       "         0.,  0.,  0.,  0.,  0.,  0.,  0.]])"
      ]
     },
     "execution_count": 219,
     "metadata": {},
     "output_type": "execute_result"
    }
   ],
   "source": [
    "tmp_stack"
   ]
  },
  {
   "cell_type": "code",
   "execution_count": 186,
   "id": "c60ac4e4",
   "metadata": {},
   "outputs": [],
   "source": [
    "x_test, y_test=util.get_testXY(test_region, 2, 2)"
   ]
  },
  {
   "cell_type": "code",
   "execution_count": 166,
   "id": "57acb1bf",
   "metadata": {},
   "outputs": [
    {
     "data": {
      "text/plain": [
       "(4, 2, 20)"
      ]
     },
     "execution_count": 166,
     "metadata": {},
     "output_type": "execute_result"
    }
   ],
   "source": [
    "x_test.shape"
   ]
  },
  {
   "cell_type": "code",
   "execution_count": 241,
   "id": "4c590ac9",
   "metadata": {},
   "outputs": [
    {
     "data": {
      "text/plain": [
       "array([[[14.,  5.,  8., 10.,  1.,  0.,  0.,  1.,  0.,  1.,  0.,  1.,\n",
       "          0.,  0.,  0.,  0.,  3.,  0.,  2.,  0.],\n",
       "        [ 5.,  2.,  0., 23.,  3.,  2.,  5.,  1.,  0.,  0.,  2.,  0.,\n",
       "          0.,  0.,  0.,  3.,  4.,  0.,  4.,  0.]],\n",
       "\n",
       "       [[ 5.,  2.,  0., 23.,  3.,  2.,  5.,  1.,  0.,  0.,  2.,  0.,\n",
       "          0.,  0.,  0.,  3.,  4.,  0.,  4.,  0.],\n",
       "        [ 3.,  2.,  7., 37.,  6., 10.,  4.,  7.,  0.,  1.,  1.,  1.,\n",
       "          0.,  0.,  0.,  0.,  0.,  0.,  0.,  0.]]])"
      ]
     },
     "execution_count": 241,
     "metadata": {},
     "output_type": "execute_result"
    }
   ],
   "source": [
    "x_test"
   ]
  },
  {
   "cell_type": "code",
   "execution_count": 138,
   "id": "66dfb921",
   "metadata": {},
   "outputs": [],
   "source": [
    "predictions = util.pred_next_n(x_test, model, 4)"
   ]
  },
  {
   "cell_type": "code",
   "execution_count": 139,
   "id": "eb3dc61d",
   "metadata": {},
   "outputs": [
    {
     "data": {
      "text/plain": [
       "4"
      ]
     },
     "execution_count": 139,
     "metadata": {},
     "output_type": "execute_result"
    }
   ],
   "source": [
    "len(predictions)"
   ]
  },
  {
   "cell_type": "code",
   "execution_count": 150,
   "id": "c1524189",
   "metadata": {},
   "outputs": [
    {
     "name": "stdout",
     "output_type": "stream",
     "text": [
      "15.228501195216642\n",
      "27.255348047347354\n",
      "82.84249005730368\n",
      "127.15255894301659\n"
     ]
    }
   ],
   "source": [
    "util.metrics_mse(predictions, y_test)"
   ]
  },
  {
   "cell_type": "code",
   "execution_count": 269,
   "id": "a94d6c4f",
   "metadata": {},
   "outputs": [],
   "source": [
    "test=test_region.tail(2)"
   ]
  },
  {
   "cell_type": "markdown",
   "id": "964d03b3",
   "metadata": {},
   "source": []
  },
  {
   "cell_type": "code",
   "execution_count": 270,
   "id": "48dcf426",
   "metadata": {},
   "outputs": [
    {
     "data": {
      "text/html": [
       "<div>\n",
       "<style scoped>\n",
       "    .dataframe tbody tr th:only-of-type {\n",
       "        vertical-align: middle;\n",
       "    }\n",
       "\n",
       "    .dataframe tbody tr th {\n",
       "        vertical-align: top;\n",
       "    }\n",
       "\n",
       "    .dataframe thead th {\n",
       "        text-align: right;\n",
       "    }\n",
       "</style>\n",
       "<table border=\"1\" class=\"dataframe\">\n",
       "  <thead>\n",
       "    <tr style=\"text-align: right;\">\n",
       "      <th>Event</th>\n",
       "      <th>01</th>\n",
       "      <th>02</th>\n",
       "      <th>03</th>\n",
       "      <th>04</th>\n",
       "      <th>05</th>\n",
       "      <th>06</th>\n",
       "      <th>07</th>\n",
       "      <th>08</th>\n",
       "      <th>09</th>\n",
       "      <th>10</th>\n",
       "      <th>11</th>\n",
       "      <th>12</th>\n",
       "      <th>13</th>\n",
       "      <th>14</th>\n",
       "      <th>15</th>\n",
       "      <th>16</th>\n",
       "      <th>17</th>\n",
       "      <th>18</th>\n",
       "      <th>19</th>\n",
       "      <th>20</th>\n",
       "    </tr>\n",
       "  </thead>\n",
       "  <tbody>\n",
       "    <tr>\n",
       "      <th>2018-01-29/2018-02-04</th>\n",
       "      <td>3</td>\n",
       "      <td>2</td>\n",
       "      <td>7</td>\n",
       "      <td>37</td>\n",
       "      <td>6</td>\n",
       "      <td>10</td>\n",
       "      <td>4</td>\n",
       "      <td>7</td>\n",
       "      <td>0</td>\n",
       "      <td>1</td>\n",
       "      <td>1</td>\n",
       "      <td>1</td>\n",
       "      <td>0</td>\n",
       "      <td>0</td>\n",
       "      <td>0</td>\n",
       "      <td>0</td>\n",
       "      <td>0</td>\n",
       "      <td>0</td>\n",
       "      <td>0</td>\n",
       "      <td>0</td>\n",
       "    </tr>\n",
       "    <tr>\n",
       "      <th>2018-02-05/2018-02-11</th>\n",
       "      <td>7</td>\n",
       "      <td>6</td>\n",
       "      <td>7</td>\n",
       "      <td>49</td>\n",
       "      <td>6</td>\n",
       "      <td>0</td>\n",
       "      <td>1</td>\n",
       "      <td>2</td>\n",
       "      <td>2</td>\n",
       "      <td>2</td>\n",
       "      <td>6</td>\n",
       "      <td>0</td>\n",
       "      <td>1</td>\n",
       "      <td>0</td>\n",
       "      <td>0</td>\n",
       "      <td>0</td>\n",
       "      <td>2</td>\n",
       "      <td>0</td>\n",
       "      <td>4</td>\n",
       "      <td>0</td>\n",
       "    </tr>\n",
       "  </tbody>\n",
       "</table>\n",
       "</div>"
      ],
      "text/plain": [
       "Event                  01  02  03  04  05  06  07  08  09  10  11  12  13  14  \\\n",
       "2018-01-29/2018-02-04   3   2   7  37   6  10   4   7   0   1   1   1   0   0   \n",
       "2018-02-05/2018-02-11   7   6   7  49   6   0   1   2   2   2   6   0   1   0   \n",
       "\n",
       "Event                  15  16  17  18  19  20  \n",
       "2018-01-29/2018-02-04   0   0   0   0   0   0  \n",
       "2018-02-05/2018-02-11   0   0   2   0   4   0  "
      ]
     },
     "execution_count": 270,
     "metadata": {},
     "output_type": "execute_result"
    }
   ],
   "source": [
    "test"
   ]
  },
  {
   "cell_type": "code",
   "execution_count": 281,
   "id": "02a3b8af",
   "metadata": {},
   "outputs": [
    {
     "name": "stdout",
     "output_type": "stream",
     "text": [
      "1\n",
      "Unexpected exception formatting exception. Falling back to standard exception\n"
     ]
    },
    {
     "name": "stderr",
     "output_type": "stream",
     "text": [
      "Traceback (most recent call last):\n",
      "  File \"/Users/griffinheyrich/opt/anaconda3/envs/atd2022/lib/python3.9/site-packages/IPython/core/interactiveshell.py\", line 3398, in run_code\n",
      "    exec(code_obj, self.user_global_ns, self.user_ns)\n",
      "  File \"/var/folders/b6/b7gcphkx3b3b2vwy13kj5dmw0000gn/T/com.apple.messages/ipykernel_9090/3471555672.py\", line 1, in <cell line: 1>\n",
      "    pred = util.prod_pred_next_n(test, model)\n",
      "  File \"/Users/griffinheyrich/git atd2022/LISP-ATD-2022/my_mod.py\", line 110, in prod_pred_next_n\n",
      "    tmp_stack = np.vstack((tmp_stack, last_n_rows.to_numpy()[0]))\n",
      "AttributeError: 'numpy.ndarray' object has no attribute 'to_numpy'\n",
      "\n",
      "During handling of the above exception, another exception occurred:\n",
      "\n",
      "Traceback (most recent call last):\n",
      "  File \"/Users/griffinheyrich/opt/anaconda3/envs/atd2022/lib/python3.9/site-packages/IPython/core/interactiveshell.py\", line 1993, in showtraceback\n",
      "    stb = self.InteractiveTB.structured_traceback(\n",
      "  File \"/Users/griffinheyrich/opt/anaconda3/envs/atd2022/lib/python3.9/site-packages/IPython/core/ultratb.py\", line 1118, in structured_traceback\n",
      "    return FormattedTB.structured_traceback(\n",
      "  File \"/Users/griffinheyrich/opt/anaconda3/envs/atd2022/lib/python3.9/site-packages/IPython/core/ultratb.py\", line 1012, in structured_traceback\n",
      "    return VerboseTB.structured_traceback(\n",
      "  File \"/Users/griffinheyrich/opt/anaconda3/envs/atd2022/lib/python3.9/site-packages/IPython/core/ultratb.py\", line 865, in structured_traceback\n",
      "    formatted_exception = self.format_exception_as_a_whole(etype, evalue, etb, number_of_lines_of_context,\n",
      "  File \"/Users/griffinheyrich/opt/anaconda3/envs/atd2022/lib/python3.9/site-packages/IPython/core/ultratb.py\", line 818, in format_exception_as_a_whole\n",
      "    frames.append(self.format_record(r))\n",
      "  File \"/Users/griffinheyrich/opt/anaconda3/envs/atd2022/lib/python3.9/site-packages/IPython/core/ultratb.py\", line 736, in format_record\n",
      "    result += ''.join(_format_traceback_lines(frame_info.lines, Colors, self.has_colors, lvals))\n",
      "  File \"/Users/griffinheyrich/opt/anaconda3/envs/atd2022/lib/python3.9/site-packages/stack_data/utils.py\", line 145, in cached_property_wrapper\n",
      "    value = obj.__dict__[self.func.__name__] = self.func(obj)\n",
      "  File \"/Users/griffinheyrich/opt/anaconda3/envs/atd2022/lib/python3.9/site-packages/stack_data/core.py\", line 698, in lines\n",
      "    pieces = self.included_pieces\n",
      "  File \"/Users/griffinheyrich/opt/anaconda3/envs/atd2022/lib/python3.9/site-packages/stack_data/utils.py\", line 145, in cached_property_wrapper\n",
      "    value = obj.__dict__[self.func.__name__] = self.func(obj)\n",
      "  File \"/Users/griffinheyrich/opt/anaconda3/envs/atd2022/lib/python3.9/site-packages/stack_data/core.py\", line 649, in included_pieces\n",
      "    pos = scope_pieces.index(self.executing_piece)\n",
      "  File \"/Users/griffinheyrich/opt/anaconda3/envs/atd2022/lib/python3.9/site-packages/stack_data/utils.py\", line 145, in cached_property_wrapper\n",
      "    value = obj.__dict__[self.func.__name__] = self.func(obj)\n",
      "  File \"/Users/griffinheyrich/opt/anaconda3/envs/atd2022/lib/python3.9/site-packages/stack_data/core.py\", line 628, in executing_piece\n",
      "    return only(\n",
      "  File \"/Users/griffinheyrich/opt/anaconda3/envs/atd2022/lib/python3.9/site-packages/executing/executing.py\", line 164, in only\n",
      "    raise NotOneValueFound('Expected one value, found 0')\n",
      "executing.executing.NotOneValueFound: Expected one value, found 0\n"
     ]
    }
   ],
   "source": [
    "pred = util.prod_pred_next_n(test, model)"
   ]
  },
  {
   "cell_type": "code",
   "execution_count": null,
   "id": "2aef3b68",
   "metadata": {},
   "outputs": [],
   "source": []
  },
  {
   "cell_type": "code",
   "execution_count": null,
   "id": "86f89385",
   "metadata": {},
   "outputs": [],
   "source": []
  }
 ],
 "metadata": {
  "kernelspec": {
   "display_name": "Python 3.9.13 ('atd2022')",
   "language": "python",
   "name": "python3"
  },
  "language_info": {
   "codemirror_mode": {
    "name": "ipython",
    "version": 3
   },
   "file_extension": ".py",
   "mimetype": "text/x-python",
   "name": "python",
   "nbconvert_exporter": "python",
   "pygments_lexer": "ipython3",
   "version": "3.9.13"
  },
  "vscode": {
   "interpreter": {
    "hash": "59aaebfce0342d109cb544e334a41e876d2fc69137c1ce2d453d6afec08aee60"
   }
  }
 },
 "nbformat": 4,
 "nbformat_minor": 5
}
