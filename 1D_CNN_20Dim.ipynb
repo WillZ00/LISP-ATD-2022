{
 "cells": [
  {
   "cell_type": "code",
   "execution_count": 39,
   "id": "3aa36b55",
   "metadata": {},
   "outputs": [
    {
     "data": {
      "text/plain": [
       "<module 'my_mod' from 'c:\\\\Users\\\\Work Space\\\\Desktop\\\\LISP-ATD-2022\\\\my_mod.py'>"
      ]
     },
     "execution_count": 39,
     "metadata": {},
     "output_type": "execute_result"
    }
   ],
   "source": [
    "import atd2022\n",
    "import pandas as pd\n",
    "import numpy as np\n",
    "import matplotlib.pyplot as plt\n",
    "import my_mod as util\n",
    "import importlib\n",
    "importlib.reload(util)"
   ]
  },
  {
   "cell_type": "code",
   "execution_count": 4,
   "id": "019a8b11",
   "metadata": {},
   "outputs": [
    {
     "name": "stdout",
     "output_type": "stream",
     "text": [
      "12\n"
     ]
    }
   ],
   "source": [
    "print(\"12\")"
   ]
  },
  {
   "cell_type": "code",
   "execution_count": 5,
   "id": "67445cd5",
   "metadata": {},
   "outputs": [],
   "source": [
    "pd.options.display.max_columns = None"
   ]
  },
  {
   "cell_type": "markdown",
   "id": "6966aeba",
   "metadata": {},
   "source": [
    "# 1-dim CNN experiment on 20-dim time series vector"
   ]
  },
  {
   "cell_type": "markdown",
   "id": "2d2adb51",
   "metadata": {},
   "source": []
  },
  {
   "cell_type": "markdown",
   "id": "74f60cbe",
   "metadata": {},
   "source": [
    "# Data Import/Preprocessing"
   ]
  },
  {
   "cell_type": "code",
   "execution_count": 6,
   "id": "88943f95",
   "metadata": {},
   "outputs": [],
   "source": [
    "data = atd2022.io.read_csv()"
   ]
  },
  {
   "cell_type": "code",
   "execution_count": 7,
   "id": "b43bf8f7",
   "metadata": {},
   "outputs": [],
   "source": [
    "test_region=data[\"AA\"]"
   ]
  },
  {
   "cell_type": "code",
   "execution_count": 8,
   "id": "43a14bdf",
   "metadata": {},
   "outputs": [
    {
     "data": {
      "text/plain": [
       "215"
      ]
     },
     "execution_count": 8,
     "metadata": {},
     "output_type": "execute_result"
    }
   ],
   "source": [
    "len(test_region)"
   ]
  },
  {
   "cell_type": "code",
   "execution_count": null,
   "id": "d49e966e",
   "metadata": {},
   "outputs": [],
   "source": []
  },
  {
   "cell_type": "code",
   "execution_count": 9,
   "id": "506fa411",
   "metadata": {},
   "outputs": [
    {
     "data": {
      "text/html": [
       "<div>\n",
       "<style scoped>\n",
       "    .dataframe tbody tr th:only-of-type {\n",
       "        vertical-align: middle;\n",
       "    }\n",
       "\n",
       "    .dataframe tbody tr th {\n",
       "        vertical-align: top;\n",
       "    }\n",
       "\n",
       "    .dataframe thead th {\n",
       "        text-align: right;\n",
       "    }\n",
       "</style>\n",
       "<table border=\"1\" class=\"dataframe\">\n",
       "  <thead>\n",
       "    <tr style=\"text-align: right;\">\n",
       "      <th>Event</th>\n",
       "      <th>01</th>\n",
       "      <th>02</th>\n",
       "      <th>03</th>\n",
       "      <th>04</th>\n",
       "      <th>05</th>\n",
       "      <th>06</th>\n",
       "      <th>07</th>\n",
       "      <th>08</th>\n",
       "      <th>09</th>\n",
       "      <th>10</th>\n",
       "      <th>11</th>\n",
       "      <th>12</th>\n",
       "      <th>13</th>\n",
       "      <th>14</th>\n",
       "      <th>15</th>\n",
       "      <th>16</th>\n",
       "      <th>17</th>\n",
       "      <th>18</th>\n",
       "      <th>19</th>\n",
       "      <th>20</th>\n",
       "    </tr>\n",
       "  </thead>\n",
       "  <tbody>\n",
       "    <tr>\n",
       "      <th>2018-01-01/2018-01-07</th>\n",
       "      <td>7</td>\n",
       "      <td>5</td>\n",
       "      <td>26</td>\n",
       "      <td>22</td>\n",
       "      <td>5</td>\n",
       "      <td>0</td>\n",
       "      <td>0</td>\n",
       "      <td>1</td>\n",
       "      <td>1</td>\n",
       "      <td>0</td>\n",
       "      <td>3</td>\n",
       "      <td>1</td>\n",
       "      <td>0</td>\n",
       "      <td>0</td>\n",
       "      <td>0</td>\n",
       "      <td>0</td>\n",
       "      <td>1</td>\n",
       "      <td>0</td>\n",
       "      <td>0</td>\n",
       "      <td>0</td>\n",
       "    </tr>\n",
       "    <tr>\n",
       "      <th>2018-01-08/2018-01-14</th>\n",
       "      <td>13</td>\n",
       "      <td>9</td>\n",
       "      <td>20</td>\n",
       "      <td>85</td>\n",
       "      <td>4</td>\n",
       "      <td>2</td>\n",
       "      <td>0</td>\n",
       "      <td>2</td>\n",
       "      <td>8</td>\n",
       "      <td>0</td>\n",
       "      <td>0</td>\n",
       "      <td>0</td>\n",
       "      <td>0</td>\n",
       "      <td>0</td>\n",
       "      <td>0</td>\n",
       "      <td>1</td>\n",
       "      <td>8</td>\n",
       "      <td>0</td>\n",
       "      <td>0</td>\n",
       "      <td>0</td>\n",
       "    </tr>\n",
       "    <tr>\n",
       "      <th>2018-01-15/2018-01-21</th>\n",
       "      <td>14</td>\n",
       "      <td>5</td>\n",
       "      <td>8</td>\n",
       "      <td>10</td>\n",
       "      <td>1</td>\n",
       "      <td>0</td>\n",
       "      <td>0</td>\n",
       "      <td>1</td>\n",
       "      <td>0</td>\n",
       "      <td>1</td>\n",
       "      <td>0</td>\n",
       "      <td>1</td>\n",
       "      <td>0</td>\n",
       "      <td>0</td>\n",
       "      <td>0</td>\n",
       "      <td>0</td>\n",
       "      <td>3</td>\n",
       "      <td>0</td>\n",
       "      <td>2</td>\n",
       "      <td>0</td>\n",
       "    </tr>\n",
       "    <tr>\n",
       "      <th>2018-01-22/2018-01-28</th>\n",
       "      <td>5</td>\n",
       "      <td>2</td>\n",
       "      <td>0</td>\n",
       "      <td>23</td>\n",
       "      <td>3</td>\n",
       "      <td>2</td>\n",
       "      <td>5</td>\n",
       "      <td>1</td>\n",
       "      <td>0</td>\n",
       "      <td>0</td>\n",
       "      <td>2</td>\n",
       "      <td>0</td>\n",
       "      <td>0</td>\n",
       "      <td>0</td>\n",
       "      <td>0</td>\n",
       "      <td>3</td>\n",
       "      <td>4</td>\n",
       "      <td>0</td>\n",
       "      <td>4</td>\n",
       "      <td>0</td>\n",
       "    </tr>\n",
       "    <tr>\n",
       "      <th>2018-01-29/2018-02-04</th>\n",
       "      <td>3</td>\n",
       "      <td>2</td>\n",
       "      <td>7</td>\n",
       "      <td>37</td>\n",
       "      <td>6</td>\n",
       "      <td>10</td>\n",
       "      <td>4</td>\n",
       "      <td>7</td>\n",
       "      <td>0</td>\n",
       "      <td>1</td>\n",
       "      <td>1</td>\n",
       "      <td>1</td>\n",
       "      <td>0</td>\n",
       "      <td>0</td>\n",
       "      <td>0</td>\n",
       "      <td>0</td>\n",
       "      <td>0</td>\n",
       "      <td>0</td>\n",
       "      <td>0</td>\n",
       "      <td>0</td>\n",
       "    </tr>\n",
       "    <tr>\n",
       "      <th>2018-02-05/2018-02-11</th>\n",
       "      <td>7</td>\n",
       "      <td>6</td>\n",
       "      <td>7</td>\n",
       "      <td>49</td>\n",
       "      <td>6</td>\n",
       "      <td>0</td>\n",
       "      <td>1</td>\n",
       "      <td>2</td>\n",
       "      <td>2</td>\n",
       "      <td>2</td>\n",
       "      <td>6</td>\n",
       "      <td>0</td>\n",
       "      <td>1</td>\n",
       "      <td>0</td>\n",
       "      <td>0</td>\n",
       "      <td>0</td>\n",
       "      <td>2</td>\n",
       "      <td>0</td>\n",
       "      <td>4</td>\n",
       "      <td>0</td>\n",
       "    </tr>\n",
       "  </tbody>\n",
       "</table>\n",
       "</div>"
      ],
      "text/plain": [
       "Event                  01  02  03  04  05  06  07  08  09  10  11  12  13  14  \\\n",
       "2018-01-01/2018-01-07   7   5  26  22   5   0   0   1   1   0   3   1   0   0   \n",
       "2018-01-08/2018-01-14  13   9  20  85   4   2   0   2   8   0   0   0   0   0   \n",
       "2018-01-15/2018-01-21  14   5   8  10   1   0   0   1   0   1   0   1   0   0   \n",
       "2018-01-22/2018-01-28   5   2   0  23   3   2   5   1   0   0   2   0   0   0   \n",
       "2018-01-29/2018-02-04   3   2   7  37   6  10   4   7   0   1   1   1   0   0   \n",
       "2018-02-05/2018-02-11   7   6   7  49   6   0   1   2   2   2   6   0   1   0   \n",
       "\n",
       "Event                  15  16  17  18  19  20  \n",
       "2018-01-01/2018-01-07   0   0   1   0   0   0  \n",
       "2018-01-08/2018-01-14   0   1   8   0   0   0  \n",
       "2018-01-15/2018-01-21   0   0   3   0   2   0  \n",
       "2018-01-22/2018-01-28   0   3   4   0   4   0  \n",
       "2018-01-29/2018-02-04   0   0   0   0   0   0  \n",
       "2018-02-05/2018-02-11   0   0   2   0   4   0  "
      ]
     },
     "execution_count": 9,
     "metadata": {},
     "output_type": "execute_result"
    }
   ],
   "source": [
    "test_region.tail(6)"
   ]
  },
  {
   "cell_type": "code",
   "execution_count": 10,
   "id": "fba19885",
   "metadata": {},
   "outputs": [],
   "source": [
    "test=util.getMultiDXY(test_region, n_lags=2)"
   ]
  },
  {
   "cell_type": "code",
   "execution_count": 11,
   "id": "4954d287",
   "metadata": {},
   "outputs": [
    {
     "data": {
      "text/plain": [
       "(array([[[ 0.,  0.,  0., ...,  0.,  0.,  0.],\n",
       "         [ 2.,  0.,  0., ...,  0.,  0.,  0.]],\n",
       " \n",
       "        [[ 2.,  0.,  0., ...,  0.,  0.,  0.],\n",
       "         [ 0.,  1.,  3., ...,  0.,  1.,  0.]],\n",
       " \n",
       "        [[ 0.,  1.,  3., ...,  0.,  1.,  0.],\n",
       "         [ 0.,  1.,  0., ...,  0.,  0.,  0.]],\n",
       " \n",
       "        ...,\n",
       " \n",
       "        [[13.,  9., 20., ...,  0.,  0.,  0.],\n",
       "         [14.,  5.,  8., ...,  0.,  2.,  0.]],\n",
       " \n",
       "        [[14.,  5.,  8., ...,  0.,  2.,  0.],\n",
       "         [ 5.,  2.,  0., ...,  0.,  4.,  0.]],\n",
       " \n",
       "        [[ 5.,  2.,  0., ...,  0.,  4.,  0.],\n",
       "         [ 3.,  2.,  7., ...,  0.,  0.,  0.]]]),\n",
       " array([[ 0.,  1.,  3., ...,  0.,  1.,  0.],\n",
       "        [ 0.,  1.,  0., ...,  0.,  0.,  0.],\n",
       "        [ 6.,  1., 59., ...,  0.,  0.,  0.],\n",
       "        ...,\n",
       "        [ 5.,  2.,  0., ...,  0.,  4.,  0.],\n",
       "        [ 3.,  2.,  7., ...,  0.,  0.,  0.],\n",
       "        [ 7.,  6.,  7., ...,  0.,  4.,  0.]]))"
      ]
     },
     "execution_count": 11,
     "metadata": {},
     "output_type": "execute_result"
    }
   ],
   "source": [
    "test"
   ]
  },
  {
   "cell_type": "code",
   "execution_count": 12,
   "id": "47e0f026",
   "metadata": {
    "scrolled": false
   },
   "outputs": [],
   "source": [
    "x,y = util.getMultiDXY(test_region, n_lags=2)"
   ]
  },
  {
   "cell_type": "code",
   "execution_count": null,
   "id": "d11d60c3",
   "metadata": {},
   "outputs": [],
   "source": []
  },
  {
   "cell_type": "code",
   "execution_count": 13,
   "id": "935efc20",
   "metadata": {},
   "outputs": [
    {
     "data": {
      "text/plain": [
       "array([[[ 0.,  0.,  0., ...,  0.,  0.,  0.],\n",
       "        [ 2.,  0.,  0., ...,  0.,  0.,  0.]],\n",
       "\n",
       "       [[ 2.,  0.,  0., ...,  0.,  0.,  0.],\n",
       "        [ 0.,  1.,  3., ...,  0.,  1.,  0.]],\n",
       "\n",
       "       [[ 0.,  1.,  3., ...,  0.,  1.,  0.],\n",
       "        [ 0.,  1.,  0., ...,  0.,  0.,  0.]],\n",
       "\n",
       "       ...,\n",
       "\n",
       "       [[13.,  9., 20., ...,  0.,  0.,  0.],\n",
       "        [14.,  5.,  8., ...,  0.,  2.,  0.]],\n",
       "\n",
       "       [[14.,  5.,  8., ...,  0.,  2.,  0.],\n",
       "        [ 5.,  2.,  0., ...,  0.,  4.,  0.]],\n",
       "\n",
       "       [[ 5.,  2.,  0., ...,  0.,  4.,  0.],\n",
       "        [ 3.,  2.,  7., ...,  0.,  0.,  0.]]])"
      ]
     },
     "execution_count": 13,
     "metadata": {},
     "output_type": "execute_result"
    }
   ],
   "source": [
    "x"
   ]
  },
  {
   "cell_type": "code",
   "execution_count": 14,
   "id": "410a189b",
   "metadata": {},
   "outputs": [
    {
     "data": {
      "text/plain": [
       "array([[ 0.,  1.,  3., ...,  0.,  1.,  0.],\n",
       "       [ 0.,  1.,  0., ...,  0.,  0.,  0.],\n",
       "       [ 6.,  1., 59., ...,  0.,  0.,  0.],\n",
       "       ...,\n",
       "       [ 5.,  2.,  0., ...,  0.,  4.,  0.],\n",
       "       [ 3.,  2.,  7., ...,  0.,  0.,  0.],\n",
       "       [ 7.,  6.,  7., ...,  0.,  4.,  0.]])"
      ]
     },
     "execution_count": 14,
     "metadata": {},
     "output_type": "execute_result"
    }
   ],
   "source": [
    "y"
   ]
  },
  {
   "cell_type": "code",
   "execution_count": 15,
   "id": "b8c81de9",
   "metadata": {},
   "outputs": [
    {
     "data": {
      "text/plain": [
       "(213, 20)"
      ]
     },
     "execution_count": 15,
     "metadata": {},
     "output_type": "execute_result"
    }
   ],
   "source": [
    "y.shape"
   ]
  },
  {
   "cell_type": "code",
   "execution_count": 16,
   "id": "d3a7ed1d",
   "metadata": {},
   "outputs": [
    {
     "data": {
      "text/plain": [
       "(213, 2, 20)"
      ]
     },
     "execution_count": 16,
     "metadata": {},
     "output_type": "execute_result"
    }
   ],
   "source": [
    "x.shape"
   ]
  },
  {
   "cell_type": "code",
   "execution_count": 17,
   "id": "f4c49da2",
   "metadata": {},
   "outputs": [],
   "source": [
    "# (#of samples, timesteps, #features(i.e. number of parallel time series))"
   ]
  },
  {
   "cell_type": "code",
   "execution_count": 18,
   "id": "1988fd76",
   "metadata": {},
   "outputs": [],
   "source": [
    "n_features = 20\n",
    "x_train=x.reshape((x.shape[0], x.shape[1], n_features))"
   ]
  },
  {
   "cell_type": "code",
   "execution_count": 19,
   "id": "8aa19df3",
   "metadata": {},
   "outputs": [
    {
     "data": {
      "text/plain": [
       "(213, 2, 20)"
      ]
     },
     "execution_count": 19,
     "metadata": {},
     "output_type": "execute_result"
    }
   ],
   "source": [
    "x_train.shape"
   ]
  },
  {
   "cell_type": "code",
   "execution_count": 20,
   "id": "ee7c89ca",
   "metadata": {},
   "outputs": [],
   "source": [
    "y_train=y"
   ]
  },
  {
   "cell_type": "markdown",
   "id": "c8eed53d",
   "metadata": {},
   "source": [
    "# CNN Model Building"
   ]
  },
  {
   "cell_type": "code",
   "execution_count": 21,
   "id": "97d77517",
   "metadata": {},
   "outputs": [],
   "source": [
    "import torch\n",
    "from torch import nn\n",
    "from torch.utils.data import Dataset,DataLoader\n",
    "import gc\n",
    "device=torch.device(\"cpu\")"
   ]
  },
  {
   "cell_type": "code",
   "execution_count": 22,
   "id": "5339e683",
   "metadata": {},
   "outputs": [],
   "source": [
    "class CNN_ForecastNet(nn.Module):\n",
    "    def __init__(self):\n",
    "        super(CNN_ForecastNet,self).__init__()\n",
    "        self.conv1d = nn.Conv1d(2,128,kernel_size=1)\n",
    "        self.relu = nn.ReLU(inplace=True)\n",
    "        self.fc1 = nn.Linear(128,64)\n",
    "        self.fc2 = nn.Linear(64,1)\n",
    "        \n",
    "    def forward(self,x):\n",
    "        x = self.conv1d(x)\n",
    "        x = self.relu(x)\n",
    "        #print(x.shape)\n",
    "        x = x.view(-1,128)\n",
    "        #print(x.shape)\n",
    "        x = self.fc1(x)\n",
    "        x = self.relu(x)\n",
    "        x = self.fc2(x)\n",
    "        \n",
    "        return x"
   ]
  },
  {
   "cell_type": "code",
   "execution_count": 23,
   "id": "2eef3335",
   "metadata": {},
   "outputs": [],
   "source": [
    "model = CNN_ForecastNet().to(device)\n",
    "optimizer = torch.optim.Adam(model.parameters(), lr=1e-5)\n",
    "criterion = nn.MSELoss()"
   ]
  },
  {
   "cell_type": "code",
   "execution_count": 24,
   "id": "8332014b",
   "metadata": {},
   "outputs": [],
   "source": [
    "class myDataset(Dataset):\n",
    "    def __init__(self,feature,target):\n",
    "        self.feature = feature\n",
    "        self.target = target\n",
    "    \n",
    "    def __len__(self):\n",
    "        return len(self.feature)\n",
    "    \n",
    "    def __getitem__(self,idx):\n",
    "        item = self.feature[idx]\n",
    "        label = self.target[idx]\n",
    "        \n",
    "        return item,label"
   ]
  },
  {
   "cell_type": "code",
   "execution_count": 25,
   "id": "85b7e61e",
   "metadata": {},
   "outputs": [],
   "source": [
    "train = myDataset(x_train,y_train)\n",
    "train_loader = torch.utils.data.DataLoader(train,batch_size=1,shuffle=False)"
   ]
  },
  {
   "cell_type": "code",
   "execution_count": 26,
   "id": "e7edebbf",
   "metadata": {},
   "outputs": [],
   "source": [
    "train_losses = []\n",
    "valid_losses = []\n",
    "def Train():\n",
    "    \n",
    "    running_loss = .0\n",
    "    \n",
    "    model.train()\n",
    "    \n",
    "    for idx, (inputs,labels) in enumerate(train_loader):\n",
    "        inputs=inputs.to(torch.float32)\n",
    "        labels=labels.to(torch.float32)\n",
    "        inputs = inputs.to(device)\n",
    "        labels = labels.to(device)\n",
    "        optimizer.zero_grad(set_to_none = True)\n",
    "        preds = model(inputs.float())\n",
    "        loss = criterion(preds,labels)\n",
    "        loss.backward()\n",
    "        optimizer.step()\n",
    "        running_loss += loss\n",
    "        \n",
    "    train_loss = running_loss/len(train_loader)\n",
    "    train_losses.append(train_loss.detach().numpy())\n",
    "    \n",
    "    print(f'train_loss {train_loss}')\n",
    "\n",
    "def Valid():\n",
    "    running_loss = .0\n",
    "    \n",
    "    model.eval()\n",
    "    \n",
    "    with torch.no_grad():\n",
    "        for idx, (inputs, labels) in enumerate(valid_loader):\n",
    "            inputs = inputs.to(device)\n",
    "            labels = labels.to(device)\n",
    "            optimizer.zero_grad()\n",
    "            preds = model(inputs.float())\n",
    "            loss = criterion(preds,labels)\n",
    "            running_loss += loss\n",
    "            \n",
    "        valid_loss = running_loss/len(valid_loader)\n",
    "        valid_losses.append(valid_loss.detach().numpy())\n",
    "        print(f'valid_loss {valid_loss}')"
   ]
  },
  {
   "cell_type": "code",
   "execution_count": 27,
   "id": "b105b4f2",
   "metadata": {
    "scrolled": true
   },
   "outputs": [
    {
     "name": "stdout",
     "output_type": "stream",
     "text": [
      "epochs 1/20\n"
     ]
    },
    {
     "name": "stderr",
     "output_type": "stream",
     "text": [
      "c:\\Users\\Work Space\\anaconda3\\envs\\atd2022\\lib\\site-packages\\torch\\nn\\modules\\loss.py:530: UserWarning: Using a target size (torch.Size([1, 20])) that is different to the input size (torch.Size([20, 1])). This will likely lead to incorrect results due to broadcasting. Please ensure they have the same size.\n",
      "  return F.mse_loss(input, target, reduction=self.reduction)\n"
     ]
    },
    {
     "name": "stdout",
     "output_type": "stream",
     "text": [
      "train_loss 100.62415313720703\n",
      "epochs 2/20\n",
      "train_loss 99.11529541015625\n",
      "epochs 3/20\n",
      "train_loss 97.80622863769531\n",
      "epochs 4/20\n",
      "train_loss 96.71733856201172\n",
      "epochs 5/20\n",
      "train_loss 95.82682037353516\n",
      "epochs 6/20\n",
      "train_loss 95.11397552490234\n",
      "epochs 7/20\n",
      "train_loss 94.54776763916016\n",
      "epochs 8/20\n",
      "train_loss 94.10066986083984\n",
      "epochs 9/20\n",
      "train_loss 93.74574279785156\n",
      "epochs 10/20\n",
      "train_loss 93.46341705322266\n",
      "epochs 11/20\n",
      "train_loss 93.2368392944336\n",
      "epochs 12/20\n",
      "train_loss 93.05132293701172\n",
      "epochs 13/20\n",
      "train_loss 92.89656066894531\n",
      "epochs 14/20\n",
      "train_loss 92.76448822021484\n",
      "epochs 15/20\n",
      "train_loss 92.65128326416016\n",
      "epochs 16/20\n",
      "train_loss 92.55224609375\n",
      "epochs 17/20\n",
      "train_loss 92.46381378173828\n",
      "epochs 18/20\n",
      "train_loss 92.38394165039062\n",
      "epochs 19/20\n",
      "train_loss 92.31094360351562\n",
      "epochs 20/20\n",
      "train_loss 92.24317169189453\n"
     ]
    }
   ],
   "source": [
    "epochs = 20\n",
    "for epoch in range(epochs):\n",
    "    print('epochs {}/{}'.format(epoch+1,epochs))\n",
    "    Train()\n",
    "    #Valid()\n",
    "    gc.collect()"
   ]
  },
  {
   "cell_type": "code",
   "execution_count": 28,
   "id": "7c7c9ca1",
   "metadata": {},
   "outputs": [
    {
     "data": {
      "text/plain": [
       "<matplotlib.legend.Legend at 0x15024b3c2e0>"
      ]
     },
     "execution_count": 28,
     "metadata": {},
     "output_type": "execute_result"
    },
    {
     "data": {
      "image/png": "[encoded data removed]",
      "text/plain": [
       "<Figure size 432x288 with 1 Axes>"
      ]
     },
     "metadata": {
      "needs_background": "light"
     },
     "output_type": "display_data"
    }
   ],
   "source": [
    "import matplotlib.pyplot as plt\n",
    "plt.plot(train_losses,label='train_loss')\n",
    "#plt.plot(valid_losses,label='valid_loss')\n",
    "plt.title('MSE Loss')\n",
    "plt.legend(bbox_to_anchor=(1.05, 1), loc='upper left', borderaxespad=0.)"
   ]
  },
  {
   "cell_type": "code",
   "execution_count": null,
   "id": "9564b712",
   "metadata": {},
   "outputs": [],
   "source": []
  },
  {
   "cell_type": "markdown",
   "id": "868b70c0",
   "metadata": {},
   "source": [
    "# Testing Set Preparation/Model testing"
   ]
  },
  {
   "cell_type": "code",
   "execution_count": 29,
   "id": "c60ac4e4",
   "metadata": {},
   "outputs": [],
   "source": [
    "x_test, y_test=util.get_testXY(test_region, 4, 2)"
   ]
  },
  {
   "cell_type": "code",
   "execution_count": 30,
   "id": "57acb1bf",
   "metadata": {},
   "outputs": [
    {
     "data": {
      "text/plain": [
       "(4, 2, 20)"
      ]
     },
     "execution_count": 30,
     "metadata": {},
     "output_type": "execute_result"
    }
   ],
   "source": [
    "x_test.shape"
   ]
  },
  {
   "cell_type": "code",
   "execution_count": 31,
   "id": "4c590ac9",
   "metadata": {},
   "outputs": [
    {
     "data": {
      "text/plain": [
       "array([[[ 7.,  5., 26., 22.,  5.,  0.,  0.,  1.,  1.,  0.,  3.,  1.,\n",
       "          0.,  0.,  0.,  0.,  1.,  0.,  0.,  0.],\n",
       "        [13.,  9., 20., 85.,  4.,  2.,  0.,  2.,  8.,  0.,  0.,  0.,\n",
       "          0.,  0.,  0.,  1.,  8.,  0.,  0.,  0.]],\n",
       "\n",
       "       [[13.,  9., 20., 85.,  4.,  2.,  0.,  2.,  8.,  0.,  0.,  0.,\n",
       "          0.,  0.,  0.,  1.,  8.,  0.,  0.,  0.],\n",
       "        [14.,  5.,  8., 10.,  1.,  0.,  0.,  1.,  0.,  1.,  0.,  1.,\n",
       "          0.,  0.,  0.,  0.,  3.,  0.,  2.,  0.]],\n",
       "\n",
       "       [[14.,  5.,  8., 10.,  1.,  0.,  0.,  1.,  0.,  1.,  0.,  1.,\n",
       "          0.,  0.,  0.,  0.,  3.,  0.,  2.,  0.],\n",
       "        [ 5.,  2.,  0., 23.,  3.,  2.,  5.,  1.,  0.,  0.,  2.,  0.,\n",
       "          0.,  0.,  0.,  3.,  4.,  0.,  4.,  0.]],\n",
       "\n",
       "       [[ 5.,  2.,  0., 23.,  3.,  2.,  5.,  1.,  0.,  0.,  2.,  0.,\n",
       "          0.,  0.,  0.,  3.,  4.,  0.,  4.,  0.],\n",
       "        [ 3.,  2.,  7., 37.,  6., 10.,  4.,  7.,  0.,  1.,  1.,  1.,\n",
       "          0.,  0.,  0.,  0.,  0.,  0.,  0.,  0.]]])"
      ]
     },
     "execution_count": 31,
     "metadata": {},
     "output_type": "execute_result"
    }
   ],
   "source": [
    "x_test"
   ]
  },
  {
   "cell_type": "code",
   "execution_count": 32,
   "id": "66dfb921",
   "metadata": {},
   "outputs": [],
   "source": [
    "predictions = util.pred_next_n(x_test, model, 4)"
   ]
  },
  {
   "cell_type": "code",
   "execution_count": 33,
   "id": "eb3dc61d",
   "metadata": {},
   "outputs": [
    {
     "data": {
      "text/plain": [
       "[array([[2.6893497 , 5.842237  , 6.0904255 , 3.994162  , 5.601624  ,\n",
       "         3.4844189 , 2.6982784 , 4.4729624 , 3.5942168 , 2.8001113 ,\n",
       "         5.8086157 , 3.0380774 , 5.5160503 , 4.8629436 , 2.837581  ,\n",
       "         0.64925253, 3.0555944 , 4.4847355 , 3.7781866 , 7.1430883 ]],\n",
       "       dtype=float32),\n",
       " array([[6.4473343, 5.879306 , 5.514781 , 3.8106718, 6.3918004, 6.4715643,\n",
       "         2.496686 , 4.83812  , 5.752984 , 2.4935865, 4.55507  , 3.7489078,\n",
       "         5.793228 , 5.2333555, 3.6266108, 1.7472315, 5.505238 , 4.6660595,\n",
       "         3.6633053, 5.9692354]], dtype=float32),\n",
       " array([[2.8562186 , 3.5090914 , 3.1644928 , 3.149423  , 4.2073627 ,\n",
       "         2.7444181 , 2.2877061 , 3.4513683 , 3.3884735 , 2.4354503 ,\n",
       "         3.0683086 , 2.592679  , 3.8825872 , 3.167643  , 2.0707748 ,\n",
       "         0.25867742, 2.5498579 , 2.8561645 , 3.055162  , 5.0652285 ]],\n",
       "       dtype=float32),\n",
       " array([[2.4405036 , 2.5350575 , 2.3985898 , 1.7521927 , 3.7035205 ,\n",
       "         2.3236356 , 1.824832  , 1.9990069 , 2.8166945 , 2.1979868 ,\n",
       "         1.608373  , 1.1958172 , 3.3854475 , 2.0458996 , 2.3726113 ,\n",
       "         0.23578301, 1.5787873 , 2.2605796 , 2.3438253 , 5.0533257 ]],\n",
       "       dtype=float32)]"
      ]
     },
     "execution_count": 33,
     "metadata": {},
     "output_type": "execute_result"
    }
   ],
   "source": [
    "predictions"
   ]
  },
  {
   "cell_type": "code",
   "execution_count": 34,
   "id": "c1524189",
   "metadata": {},
   "outputs": [
    {
     "name": "stdout",
     "output_type": "stream",
     "text": [
      "20.59588149371134\n",
      "33.181778775756456\n",
      "66.68613698360815\n",
      "118.4113351004255\n"
     ]
    }
   ],
   "source": [
    "util.metrics_mse(predictions, y_test)"
   ]
  },
  {
   "cell_type": "code",
   "execution_count": null,
   "id": "a36e89e3",
   "metadata": {},
   "outputs": [],
   "source": []
  },
  {
   "cell_type": "code",
   "execution_count": null,
   "id": "1ab02d20",
   "metadata": {},
   "outputs": [],
   "source": []
  },
  {
   "cell_type": "code",
   "execution_count": null,
   "id": "ef885a61",
   "metadata": {},
   "outputs": [],
   "source": []
  },
  {
   "cell_type": "code",
   "execution_count": 35,
   "id": "a94d6c4f",
   "metadata": {},
   "outputs": [],
   "source": [
    "test=test_region.tail(2)"
   ]
  },
  {
   "cell_type": "markdown",
   "id": "964d03b3",
   "metadata": {},
   "source": []
  },
  {
   "cell_type": "code",
   "execution_count": 36,
   "id": "48dcf426",
   "metadata": {},
   "outputs": [
    {
     "data": {
      "text/html": [
       "<div>\n",
       "<style scoped>\n",
       "    .dataframe tbody tr th:only-of-type {\n",
       "        vertical-align: middle;\n",
       "    }\n",
       "\n",
       "    .dataframe tbody tr th {\n",
       "        vertical-align: top;\n",
       "    }\n",
       "\n",
       "    .dataframe thead th {\n",
       "        text-align: right;\n",
       "    }\n",
       "</style>\n",
       "<table border=\"1\" class=\"dataframe\">\n",
       "  <thead>\n",
       "    <tr style=\"text-align: right;\">\n",
       "      <th>Event</th>\n",
       "      <th>01</th>\n",
       "      <th>02</th>\n",
       "      <th>03</th>\n",
       "      <th>04</th>\n",
       "      <th>05</th>\n",
       "      <th>06</th>\n",
       "      <th>07</th>\n",
       "      <th>08</th>\n",
       "      <th>09</th>\n",
       "      <th>10</th>\n",
       "      <th>11</th>\n",
       "      <th>12</th>\n",
       "      <th>13</th>\n",
       "      <th>14</th>\n",
       "      <th>15</th>\n",
       "      <th>16</th>\n",
       "      <th>17</th>\n",
       "      <th>18</th>\n",
       "      <th>19</th>\n",
       "      <th>20</th>\n",
       "    </tr>\n",
       "  </thead>\n",
       "  <tbody>\n",
       "    <tr>\n",
       "      <th>2018-01-29/2018-02-04</th>\n",
       "      <td>3</td>\n",
       "      <td>2</td>\n",
       "      <td>7</td>\n",
       "      <td>37</td>\n",
       "      <td>6</td>\n",
       "      <td>10</td>\n",
       "      <td>4</td>\n",
       "      <td>7</td>\n",
       "      <td>0</td>\n",
       "      <td>1</td>\n",
       "      <td>1</td>\n",
       "      <td>1</td>\n",
       "      <td>0</td>\n",
       "      <td>0</td>\n",
       "      <td>0</td>\n",
       "      <td>0</td>\n",
       "      <td>0</td>\n",
       "      <td>0</td>\n",
       "      <td>0</td>\n",
       "      <td>0</td>\n",
       "    </tr>\n",
       "    <tr>\n",
       "      <th>2018-02-05/2018-02-11</th>\n",
       "      <td>7</td>\n",
       "      <td>6</td>\n",
       "      <td>7</td>\n",
       "      <td>49</td>\n",
       "      <td>6</td>\n",
       "      <td>0</td>\n",
       "      <td>1</td>\n",
       "      <td>2</td>\n",
       "      <td>2</td>\n",
       "      <td>2</td>\n",
       "      <td>6</td>\n",
       "      <td>0</td>\n",
       "      <td>1</td>\n",
       "      <td>0</td>\n",
       "      <td>0</td>\n",
       "      <td>0</td>\n",
       "      <td>2</td>\n",
       "      <td>0</td>\n",
       "      <td>4</td>\n",
       "      <td>0</td>\n",
       "    </tr>\n",
       "  </tbody>\n",
       "</table>\n",
       "</div>"
      ],
      "text/plain": [
       "Event                  01  02  03  04  05  06  07  08  09  10  11  12  13  14  \\\n",
       "2018-01-29/2018-02-04   3   2   7  37   6  10   4   7   0   1   1   1   0   0   \n",
       "2018-02-05/2018-02-11   7   6   7  49   6   0   1   2   2   2   6   0   1   0   \n",
       "\n",
       "Event                  15  16  17  18  19  20  \n",
       "2018-01-29/2018-02-04   0   0   0   0   0   0  \n",
       "2018-02-05/2018-02-11   0   0   2   0   4   0  "
      ]
     },
     "execution_count": 36,
     "metadata": {},
     "output_type": "execute_result"
    }
   ],
   "source": [
    "test"
   ]
  },
  {
   "cell_type": "code",
   "execution_count": 37,
   "id": "02a3b8af",
   "metadata": {},
   "outputs": [
    {
     "name": "stdout",
     "output_type": "stream",
     "text": [
      "1\n",
      "2\n",
      "3\n",
      "4\n",
      "(2, 20)\n",
      "[2.4772427 4.50922   3.6403193 3.4262872 3.6347022 2.958684  1.9138889\n",
      " 2.8812206 3.1682062 1.8425845 3.2915425 1.9871057 3.8958838 4.1793947\n",
      " 2.1591518 0.5805316 1.9707905 3.144789  3.1595054 5.1526394]\n",
      "[3.8355355 3.8657155 3.4330502 2.4134107 3.9334013 3.949173  1.7990553\n",
      " 3.0415277 3.6036968 1.6558921 2.477667  2.1989465 3.6550956 3.378253\n",
      " 2.446856  0.9189644 3.0924268 2.986939  2.4984431 4.0910063]\n",
      "[1.5759301  2.006458   2.305821   1.2353344  2.7527623  1.6332228\n",
      " 1.4621236  1.2738433  2.0397015  1.7893977  1.2526515  0.87015903\n",
      " 2.7889538  1.625197   1.9450643  0.13637395 0.9379002  1.9117401\n",
      " 1.8145769  3.866825  ]\n",
      "[1.7494783  1.5951643  1.689508   1.270766   2.206392   1.5803983\n",
      " 1.2717195  1.2459772  1.9531125  1.5000993  1.0677478  0.8193854\n",
      " 2.1923518  1.2984941  1.6529312  0.18337733 1.0509126  1.6258028\n",
      " 1.4141316  3.0460086 ]\n"
     ]
    }
   ],
   "source": [
    "pred = util.prod_pred_next_n(test, model)"
   ]
  },
  {
   "cell_type": "code",
   "execution_count": null,
   "id": "86f89385",
   "metadata": {},
   "outputs": [],
   "source": []
  }
 ],
 "metadata": {
  "kernelspec": {
   "display_name": "Python 3.9.13 ('atd2022')",
   "language": "python",
   "name": "python3"
  },
  "language_info": {
   "codemirror_mode": {
    "name": "ipython",
    "version": 3
   },
   "file_extension": ".py",
   "mimetype": "text/x-python",
   "name": "python",
   "nbconvert_exporter": "python",
   "pygments_lexer": "ipython3",
   "version": "3.9.13"
  },
  "vscode": {
   "interpreter": {
    "hash": "1fe9b8d6e49728914dc3ad2528f729eb7ba921bd5dd5e6d2476d8040bec78eeb"
   }
  }
 },
 "nbformat": 4,
 "nbformat_minor": 5
}
