{
 "cells": [
  {
   "cell_type": "code",
   "execution_count": 112,
   "id": "4a56e79c",
   "metadata": {},
   "outputs": [
    {
     "data": {
      "text/plain": [
       "<module 'my_mod' from 'C:\\\\Users\\\\Work Space\\\\Desktop\\\\LISP-ATD-2022\\\\my_mod.py'>"
      ]
     },
     "execution_count": 112,
     "metadata": {},
     "output_type": "execute_result"
    }
   ],
   "source": [
    "import atd2022\n",
    "import pandas as pd\n",
    "import numpy as np\n",
    "import matplotlib.pyplot as plt\n",
    "import my_mod as util\n",
    "import importlib\n",
    "importlib.reload(util)"
   ]
  },
  {
   "cell_type": "markdown",
   "id": "ea1524aa",
   "metadata": {},
   "source": [
    "# Import Data"
   ]
  },
  {
   "cell_type": "code",
   "execution_count": 113,
   "id": "5c8b8a56",
   "metadata": {},
   "outputs": [],
   "source": [
    "data = atd2022.io.read_csv()"
   ]
  },
  {
   "cell_type": "markdown",
   "id": "c5673902",
   "metadata": {},
   "source": [
    "# Model Configuration"
   ]
  },
  {
   "cell_type": "code",
   "execution_count": 114,
   "id": "f5593ad6",
   "metadata": {},
   "outputs": [],
   "source": [
    "# In my_mod.py"
   ]
  },
  {
   "cell_type": "markdown",
   "id": "08d81d5b",
   "metadata": {},
   "source": [
    "# Generate Predictions"
   ]
  },
  {
   "cell_type": "code",
   "execution_count": null,
   "id": "c4799607",
   "metadata": {},
   "outputs": [],
   "source": [
    "full_pred = util.generate_full_pred(data, n_epochs=250)"
   ]
  }
 ],
 "metadata": {
  "kernelspec": {
   "display_name": "atd2022",
   "language": "python",
   "name": "atd2022"
  },
  "language_info": {
   "codemirror_mode": {
    "name": "ipython",
    "version": 3
   },
   "file_extension": ".py",
   "mimetype": "text/x-python",
   "name": "python",
   "nbconvert_exporter": "python",
   "pygments_lexer": "ipython3",
   "version": "3.9.13"
  }
 },
 "nbformat": 4,
 "nbformat_minor": 5
}
