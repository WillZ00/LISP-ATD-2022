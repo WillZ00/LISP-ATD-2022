{
 "cells": [
  {
   "cell_type": "code",
   "execution_count": null,
   "id": "77c21859",
   "metadata": {},
   "outputs": [],
   "source": [
    "import atd2022\n",
    "import torch\n",
    "import pandas as pd\n",
    "import numpy as np\n",
    "from utils.tools import dotdict\n",
    "from atd_wrapper import CNN_VAR_Forecaster\n",
    "pd.set_option('display.max_columns', None)\n",
    "from sktime.performance_metrics.forecasting import (\n",
    "    MeanAbsoluteScaledError,\n",
    "    MeanSquaredError,\n",
    ")\n",
    "import holoviews as hv\n",
    "hv.extension(\"bokeh\")"
   ]
  },
  {
   "cell_type": "markdown",
   "id": "7a367b3d",
   "metadata": {},
   "source": [
    "# Testing ATD Protocol"
   ]
  },
  {
   "cell_type": "code",
   "execution_count": null,
   "id": "30bc2ef3",
   "metadata": {},
   "outputs": [],
   "source": [
    "truth = atd2022.io.read_csv().head(130)"
   ]
  },
  {
   "cell_type": "code",
   "execution_count": null,
   "id": "f8e7583d",
   "metadata": {},
   "outputs": [],
   "source": [
    "args = dotdict()\n",
    "\n",
    "args.if_normalize = True\n",
    "args.if_filter_constant = False\n",
    "args.lag=30\n",
    "args.predict_len=4\n",
    "\n",
    "args.dim = 1024\n",
    "args.use_gpu = True\n",
    "args.batch_size = 40\n",
    "args.train_epochs=100\n",
    "args.lr = 0.001\n",
    "args.history_len =35"
   ]
  },
  {
   "cell_type": "code",
   "execution_count": null,
   "id": "a8d566ef",
   "metadata": {},
   "outputs": [],
   "source": [
    "lispStatsDL = CNN_VAR_Forecaster(args)"
   ]
  },
  {
   "cell_type": "code",
   "execution_count": null,
   "id": "01038547",
   "metadata": {
    "scrolled": true
   },
   "outputs": [],
   "source": [
    "lispStatsDL.fit(truth)"
   ]
  },
  {
   "cell_type": "code",
   "execution_count": null,
   "id": "90f2ce1f",
   "metadata": {
    "scrolled": false
   },
   "outputs": [],
   "source": [
    "lispStatsDL.predict(truth.tail(4).index)"
   ]
  },
  {
   "cell_type": "code",
   "execution_count": null,
   "id": "3b7c4a1e",
   "metadata": {},
   "outputs": [],
   "source": []
  }
 ],
 "metadata": {
  "kernelspec": {
   "display_name": "atd2022",
   "language": "python",
   "name": "atd2022"
  },
  "language_info": {
   "codemirror_mode": {
    "name": "ipython",
    "version": 3
   },
   "file_extension": ".py",
   "mimetype": "text/x-python",
   "name": "python",
   "nbconvert_exporter": "python",
   "pygments_lexer": "ipython3",
   "version": "3.9.13"
  }
 },
 "nbformat": 4,
 "nbformat_minor": 5
}
