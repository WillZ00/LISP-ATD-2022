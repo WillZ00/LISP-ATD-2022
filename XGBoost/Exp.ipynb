{
 "cells": [
  {
   "cell_type": "code",
   "execution_count": 157,
   "id": "24b224c7",
   "metadata": {},
   "outputs": [],
   "source": [
    "import atd2022\n",
    "from xgboost import XGBRegressor\n",
    "from skforecast.ForecasterAutoreg import ForecasterAutoreg\n",
    "import pandas as pd"
   ]
  },
  {
   "cell_type": "code",
   "execution_count": 2,
   "id": "a0206302",
   "metadata": {},
   "outputs": [],
   "source": [
    "truth=atd2022.io.read_csv()"
   ]
  },
  {
   "cell_type": "code",
   "execution_count": 137,
   "id": "5afc55a2",
   "metadata": {},
   "outputs": [],
   "source": [
    "res_forecaster = ForecasterAutoreg(\n",
    "    regressor = XGBRegressor(n_jobs = 100, \n",
    "                             tree_method = \"approx\",\n",
    "                            #max_leaves = 12\n",
    "                            ),\n",
    "    lags = 30\n",
    "    )"
   ]
  },
  {
   "cell_type": "code",
   "execution_count": 138,
   "id": "a1f2fd82",
   "metadata": {},
   "outputs": [],
   "source": [
    "test = truth[('AA', '01')].head(215)"
   ]
  },
  {
   "cell_type": "code",
   "execution_count": 139,
   "id": "9f8a1cd6",
   "metadata": {},
   "outputs": [
    {
     "name": "stderr",
     "output_type": "stream",
     "text": [
      "/scratch/wzong/anaconda3/envs/atd2022/lib/python3.9/site-packages/skforecast/utils/utils.py:256: UserWarning: `y` has no DatetimeIndex nor RangeIndex index. Index is overwritten with a RangeIndex.\n",
      "  warnings.warn(\n"
     ]
    }
   ],
   "source": [
    "res_forecaster.fit(y = test)"
   ]
  },
  {
   "cell_type": "code",
   "execution_count": 152,
   "id": "5cc8d3aa",
   "metadata": {},
   "outputs": [],
   "source": [
    "tmp =res_forecaster.predict(steps=4)"
   ]
  },
  {
   "cell_type": "code",
   "execution_count": 153,
   "id": "bbed19c5",
   "metadata": {
    "scrolled": true
   },
   "outputs": [
    {
     "data": {
      "text/plain": [
       "2018-01-08/2018-01-14    13\n",
       "2018-01-15/2018-01-21    14\n",
       "2018-01-22/2018-01-28     5\n",
       "2018-01-29/2018-02-04     3\n",
       "2018-02-05/2018-02-11     7\n",
       "Freq: W-SUN, Name: (AA, 01), dtype: int64"
      ]
     },
     "execution_count": 153,
     "metadata": {},
     "output_type": "execute_result"
    }
   ],
   "source": [
    "truth[('AA', '01')].tail()"
   ]
  },
  {
   "cell_type": "code",
   "execution_count": 175,
   "id": "00f46674",
   "metadata": {},
   "outputs": [],
   "source": [
    "indicies = truth.tail(4).index"
   ]
  },
  {
   "cell_type": "code",
   "execution_count": 166,
   "id": "6eb65c00",
   "metadata": {},
   "outputs": [],
   "source": [
    "tmp_lst = tmp.to_list()"
   ]
  },
  {
   "cell_type": "code",
   "execution_count": null,
   "id": "1cb7851e",
   "metadata": {},
   "outputs": [],
   "source": []
  },
  {
   "cell_type": "code",
   "execution_count": 167,
   "id": "12f2d907",
   "metadata": {},
   "outputs": [],
   "source": [
    "test_lst = [tmp_lst, tmp_lst]"
   ]
  },
  {
   "cell_type": "code",
   "execution_count": 170,
   "id": "039f872f",
   "metadata": {},
   "outputs": [
    {
     "data": {
      "text/plain": [
       "[[8.914878845214844, 11.979313850402832, 9.400818824768066, 4.027756214141846],\n",
       " [8.914878845214844, 11.979313850402832, 9.400818824768066, 4.027756214141846]]"
      ]
     },
     "execution_count": 170,
     "metadata": {},
     "output_type": "execute_result"
    }
   ],
   "source": [
    "test_lst"
   ]
  },
  {
   "cell_type": "code",
   "execution_count": 172,
   "id": "3d347ade",
   "metadata": {},
   "outputs": [],
   "source": [
    "test_df = pd.DataFrame(data = test_lst, index=[\"1\",\"2\"]).T"
   ]
  },
  {
   "cell_type": "code",
   "execution_count": 176,
   "id": "56bdb7cd",
   "metadata": {},
   "outputs": [
    {
     "data": {
      "text/html": [
       "<div>\n",
       "<style scoped>\n",
       "    .dataframe tbody tr th:only-of-type {\n",
       "        vertical-align: middle;\n",
       "    }\n",
       "\n",
       "    .dataframe tbody tr th {\n",
       "        vertical-align: top;\n",
       "    }\n",
       "\n",
       "    .dataframe thead th {\n",
       "        text-align: right;\n",
       "    }\n",
       "</style>\n",
       "<table border=\"1\" class=\"dataframe\">\n",
       "  <thead>\n",
       "    <tr style=\"text-align: right;\">\n",
       "      <th></th>\n",
       "      <th>1</th>\n",
       "      <th>2</th>\n",
       "    </tr>\n",
       "  </thead>\n",
       "  <tbody>\n",
       "    <tr>\n",
       "      <th>2018-01-15/2018-01-21</th>\n",
       "      <td>8.914879</td>\n",
       "      <td>8.914879</td>\n",
       "    </tr>\n",
       "    <tr>\n",
       "      <th>2018-01-22/2018-01-28</th>\n",
       "      <td>11.979314</td>\n",
       "      <td>11.979314</td>\n",
       "    </tr>\n",
       "    <tr>\n",
       "      <th>2018-01-29/2018-02-04</th>\n",
       "      <td>9.400819</td>\n",
       "      <td>9.400819</td>\n",
       "    </tr>\n",
       "    <tr>\n",
       "      <th>2018-02-05/2018-02-11</th>\n",
       "      <td>4.027756</td>\n",
       "      <td>4.027756</td>\n",
       "    </tr>\n",
       "  </tbody>\n",
       "</table>\n",
       "</div>"
      ],
      "text/plain": [
       "                               1          2\n",
       "2018-01-15/2018-01-21   8.914879   8.914879\n",
       "2018-01-22/2018-01-28  11.979314  11.979314\n",
       "2018-01-29/2018-02-04   9.400819   9.400819\n",
       "2018-02-05/2018-02-11   4.027756   4.027756"
      ]
     },
     "execution_count": 176,
     "metadata": {},
     "output_type": "execute_result"
    }
   ],
   "source": [
    "test_df.set_index(indicies)"
   ]
  },
  {
   "cell_type": "code",
   "execution_count": 169,
   "id": "bfaa3dd5",
   "metadata": {},
   "outputs": [
    {
     "data": {
      "text/html": [
       "<div>\n",
       "<style scoped>\n",
       "    .dataframe tbody tr th:only-of-type {\n",
       "        vertical-align: middle;\n",
       "    }\n",
       "\n",
       "    .dataframe tbody tr th {\n",
       "        vertical-align: top;\n",
       "    }\n",
       "\n",
       "    .dataframe thead th {\n",
       "        text-align: right;\n",
       "    }\n",
       "</style>\n",
       "<table border=\"1\" class=\"dataframe\">\n",
       "  <thead>\n",
       "    <tr style=\"text-align: right;\">\n",
       "      <th></th>\n",
       "      <th>1</th>\n",
       "      <th>2</th>\n",
       "    </tr>\n",
       "  </thead>\n",
       "  <tbody>\n",
       "    <tr>\n",
       "      <th>pred</th>\n",
       "      <td>NaN</td>\n",
       "      <td>NaN</td>\n",
       "    </tr>\n",
       "    <tr>\n",
       "      <th>pred</th>\n",
       "      <td>NaN</td>\n",
       "      <td>NaN</td>\n",
       "    </tr>\n",
       "  </tbody>\n",
       "</table>\n",
       "</div>"
      ],
      "text/plain": [
       "       1   2\n",
       "pred NaN NaN\n",
       "pred NaN NaN"
      ]
     },
     "execution_count": 169,
     "metadata": {},
     "output_type": "execute_result"
    }
   ],
   "source": [
    "test_df"
   ]
  },
  {
   "cell_type": "code",
   "execution_count": 187,
   "id": "3b9e6a5b",
   "metadata": {},
   "outputs": [],
   "source": [
    "row1 = truth.iloc[[2]]"
   ]
  },
  {
   "cell_type": "code",
   "execution_count": 188,
   "id": "75643259",
   "metadata": {},
   "outputs": [],
   "source": [
    "row2 = truth.iloc[[2]]"
   ]
  },
  {
   "cell_type": "code",
   "execution_count": 189,
   "id": "4facdeff",
   "metadata": {},
   "outputs": [],
   "source": [
    "test = pd.concat([row1,row2], axis=0)"
   ]
  },
  {
   "cell_type": "code",
   "execution_count": 190,
   "id": "c30d132b",
   "metadata": {},
   "outputs": [
    {
     "data": {
      "text/html": [
       "<div>\n",
       "<style scoped>\n",
       "    .dataframe tbody tr th:only-of-type {\n",
       "        vertical-align: middle;\n",
       "    }\n",
       "\n",
       "    .dataframe tbody tr th {\n",
       "        vertical-align: top;\n",
       "    }\n",
       "\n",
       "    .dataframe thead tr th {\n",
       "        text-align: left;\n",
       "    }\n",
       "</style>\n",
       "<table border=\"1\" class=\"dataframe\">\n",
       "  <thead>\n",
       "    <tr>\n",
       "      <th>Region</th>\n",
       "      <th colspan=\"10\" halign=\"left\">AA</th>\n",
       "      <th>...</th>\n",
       "      <th colspan=\"10\" halign=\"left\">ZI</th>\n",
       "    </tr>\n",
       "    <tr>\n",
       "      <th>Event</th>\n",
       "      <th>01</th>\n",
       "      <th>02</th>\n",
       "      <th>03</th>\n",
       "      <th>04</th>\n",
       "      <th>05</th>\n",
       "      <th>06</th>\n",
       "      <th>07</th>\n",
       "      <th>08</th>\n",
       "      <th>09</th>\n",
       "      <th>10</th>\n",
       "      <th>...</th>\n",
       "      <th>11</th>\n",
       "      <th>12</th>\n",
       "      <th>13</th>\n",
       "      <th>14</th>\n",
       "      <th>15</th>\n",
       "      <th>16</th>\n",
       "      <th>17</th>\n",
       "      <th>18</th>\n",
       "      <th>19</th>\n",
       "      <th>20</th>\n",
       "    </tr>\n",
       "  </thead>\n",
       "  <tbody>\n",
       "    <tr>\n",
       "      <th>2014-01-13/2014-01-19</th>\n",
       "      <td>0</td>\n",
       "      <td>1</td>\n",
       "      <td>3</td>\n",
       "      <td>7</td>\n",
       "      <td>1</td>\n",
       "      <td>0</td>\n",
       "      <td>0</td>\n",
       "      <td>0</td>\n",
       "      <td>0</td>\n",
       "      <td>0</td>\n",
       "      <td>...</td>\n",
       "      <td>164</td>\n",
       "      <td>49</td>\n",
       "      <td>20</td>\n",
       "      <td>8</td>\n",
       "      <td>0</td>\n",
       "      <td>34</td>\n",
       "      <td>91</td>\n",
       "      <td>20</td>\n",
       "      <td>63</td>\n",
       "      <td>0</td>\n",
       "    </tr>\n",
       "    <tr>\n",
       "      <th>2014-01-13/2014-01-19</th>\n",
       "      <td>0</td>\n",
       "      <td>1</td>\n",
       "      <td>3</td>\n",
       "      <td>7</td>\n",
       "      <td>1</td>\n",
       "      <td>0</td>\n",
       "      <td>0</td>\n",
       "      <td>0</td>\n",
       "      <td>0</td>\n",
       "      <td>0</td>\n",
       "      <td>...</td>\n",
       "      <td>164</td>\n",
       "      <td>49</td>\n",
       "      <td>20</td>\n",
       "      <td>8</td>\n",
       "      <td>0</td>\n",
       "      <td>34</td>\n",
       "      <td>91</td>\n",
       "      <td>20</td>\n",
       "      <td>63</td>\n",
       "      <td>0</td>\n",
       "    </tr>\n",
       "  </tbody>\n",
       "</table>\n",
       "<p>2 rows × 5200 columns</p>\n",
       "</div>"
      ],
      "text/plain": [
       "Region                AA                             ...   ZI                \\\n",
       "Event                 01 02 03 04 05 06 07 08 09 10  ...   11  12  13 14 15   \n",
       "2014-01-13/2014-01-19  0  1  3  7  1  0  0  0  0  0  ...  164  49  20  8  0   \n",
       "2014-01-13/2014-01-19  0  1  3  7  1  0  0  0  0  0  ...  164  49  20  8  0   \n",
       "\n",
       "Region                                    \n",
       "Event                  16  17  18  19 20  \n",
       "2014-01-13/2014-01-19  34  91  20  63  0  \n",
       "2014-01-13/2014-01-19  34  91  20  63  0  \n",
       "\n",
       "[2 rows x 5200 columns]"
      ]
     },
     "execution_count": 190,
     "metadata": {},
     "output_type": "execute_result"
    }
   ],
   "source": [
    "test"
   ]
  },
  {
   "cell_type": "code",
   "execution_count": null,
   "id": "37ba1a50",
   "metadata": {},
   "outputs": [],
   "source": []
  }
 ],
 "metadata": {
  "kernelspec": {
   "display_name": "atd2022",
   "language": "python",
   "name": "atd2022"
  },
  "language_info": {
   "codemirror_mode": {
    "name": "ipython",
    "version": 3
   },
   "file_extension": ".py",
   "mimetype": "text/x-python",
   "name": "python",
   "nbconvert_exporter": "python",
   "pygments_lexer": "ipython3",
   "version": "3.9.13"
  }
 },
 "nbformat": 4,
 "nbformat_minor": 5
}
